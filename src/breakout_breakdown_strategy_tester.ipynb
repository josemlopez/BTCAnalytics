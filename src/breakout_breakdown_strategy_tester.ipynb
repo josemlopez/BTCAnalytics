{
 "cells": [
  {
   "cell_type": "markdown",
   "metadata": {
    "pycharm": {
     "name": "#%% md\n"
    }
   },
   "source": [
    "This notebook is a set of different test for checking a strategy and check it in all the possible scenarios set by parameter:\n",
    "1) Create / backtest strategies for a specific strategy and compare with naive buy & hold strategy\n",
    "2) Extract statistics to see the probability of some scenarios\n",
    "\n",
    "Here the strategy: https://www.tradingview.com/script/V2cjsLhI-Volume-Bar-Breakout-and-Breakdown-Indicator/"
   ]
  },
  {
   "cell_type": "markdown",
   "metadata": {
    "pycharm": {
     "name": "#%% md\n"
    }
   },
   "source": [
    "#### Imports"
   ]
  },
  {
   "cell_type": "code",
   "execution_count": 1,
   "metadata": {
    "pycharm": {
     "name": "#%%\n"
    }
   },
   "outputs": [],
   "source": [
    "from scipy.optimize import brute\n",
    "from binance.client import Client\n",
    "import pandas as pd\n",
    "import numpy as np\n",
    "from datetime import datetime\n",
    "from typing import Optional\n",
    "import configparser\n",
    "\n",
    "\n",
    "# Read local file `config.ini`.\n",
    "config = configparser.ConfigParser()\n",
    "config.read('../settings/api_ks.ini')\n",
    "\n",
    "coin=\"BTCUSDT\"\n",
    "# These API keys are not valid, just a couple of examples. You need to go: https://www.binance.com/en/my/settings/api-management in your binance account and set your API keys.\n",
    "api_key = config['BINANCE']['API_KEY']\n",
    "api_secret_key = config['BINANCE']['API_SECRET_KEY']\n",
    "client = Client(api_key, api_secret_key)"
   ]
  },
  {
   "cell_type": "markdown",
   "metadata": {
    "pycharm": {
     "name": "#%% md\n"
    }
   },
   "source": [
    "#### Some helper functions and creation of Backtester class"
   ]
  },
  {
   "cell_type": "code",
   "execution_count": 2,
   "metadata": {
    "pycharm": {
     "name": "#%%\n"
    }
   },
   "outputs": [],
   "source": [
    "def set_pandas_display_options() -> None:\n",
    "    \"\"\"Set pandas display options.\"\"\"\n",
    "    # Ref: https://stackoverflow.com/a/52432757/\n",
    "    display = pd.options.display\n",
    "\n",
    "    display.max_columns = 1000\n",
    "    display.max_rows = 1000\n",
    "    display.max_colwidth = 199\n",
    "    display.width = 1000\n",
    "    # display.precision = 2  # set as needed\n",
    "\n",
    "set_pandas_display_options()"
   ]
  },
  {
   "cell_type": "code",
   "execution_count": 3,
   "metadata": {
    "pycharm": {
     "name": "#%%\n"
    }
   },
   "outputs": [],
   "source": [
    "class ToolboxPriceAnalytics(object):\n",
    "    @staticmethod\n",
    "    def dataframe_from_historicalklines(data_klines: list)-> pd.DataFrame:\n",
    "        \"\"\"Get data list from get_historical_Klines and creates a Dataframe.\n",
    "\n",
    "        Args:\n",
    "            data_klines (list): A list of candles obtained using get_historical_Klines\n",
    "\n",
    "        Returns:\n",
    "            pd.DataFrame: A dataframe containing these columns\n",
    "            [\"time\", \"open\", \"high\", \"low\", \"close\", \"volume\", \"close_time\", \"qav\", \"ntrades\", \"tbav\", \"tbqav\", \"ignore\"]\n",
    "        \"\"\"\n",
    "        data = pd.DataFrame(data_klines, columns=[\"time\", \"open\", \"high\", \"low\", \"close\", \"volume\", \"close_time\", \"qav\", \"ntrades\", \"tbav\", \"tbqav\", \"ignore\"])\n",
    "        data = data.apply(pd.to_numeric)\n",
    "        # Cleaning the columns that won't be needed\n",
    "        data.drop(\"close_time\", inplace=True, axis=1)\n",
    "        data.drop(\"qav\", inplace=True, axis=1)\n",
    "        data.drop(\"tbav\", inplace=True, axis=1)\n",
    "        data.drop(\"tbqav\", inplace=True, axis=1)\n",
    "        data.drop(\"ignore\", inplace=True, axis=1)\n",
    "        return data\n",
    "       \n",
    "    @staticmethod\n",
    "    def study_max_delta(data: pd.DataFrame, windows: int)->pd.DataFrame:\n",
    "        \"\"\"Includes in the dataframe (data) 4 columns per windows, calculating: \n",
    "        1) close_w_<#window>               :  close price in # window ahead\n",
    "        2) close_delta_w_<#window>         :  delta between the current price and the same we will find in <#window> ahead\n",
    "        3) close_delta_w_per_<#window>     :  delta in percentage\n",
    "        4) close_low_consecutive_<#window> :  1 when all the previous candels delta where bellow the threshold\n",
    "\n",
    "        Args:\n",
    "            data (pd.DataFrame): A dataframe prepared with, at least, dataframe_from_historicalKlines columns\n",
    "            windows (int): Number of windows that will be calculated\n",
    "\n",
    "        Returns:\n",
    "            pd.DataFrame: [description]\n",
    "        \"\"\"\n",
    "        assert data.empty == False\n",
    "        assert windows > 0\n",
    "        for i in range(1, windows+1):\n",
    "            data['close_next_cdl_'+str(i)]               = data['close'].shift(-i)\n",
    "            data.fillna(0, inplace=True)\n",
    "            data['close_delta_next_cdl_'+str(i)]         = data['close_next_cdl_'+str(i)]-data['close']\n",
    "            data['close_delta_next_cdl_pert_'+str(i)]    = (data['close_next_cdl_'+str(i)]-data['close'])/data['close']*100\n",
    "            #data['close_low_consecutive_'+str(i)] = np.where(data[])\n",
    "        return data"
   ]
  },
  {
   "cell_type": "code",
   "execution_count": 4,
   "metadata": {
    "pycharm": {
     "name": "#%%\n"
    }
   },
   "outputs": [],
   "source": [
    "class HVRJBacktester2(object):\n",
    "    \"\"\" Class for the vectorized backtesting of SMA-based trading strategies.\n",
    "    \"\"\"\n",
    "    def __init__(self, \n",
    "                 data: pd.DataFrame, \n",
    "                 price_column: str , \n",
    "                 window_size: int, \n",
    "                 start: datetime = None, \n",
    "                 end: datetime = None, \n",
    "                 lookback: int = 75):\n",
    "\n",
    "        # initialize the object\n",
    "        assert data is not None\n",
    "        self.window_size: int = window_size\n",
    "        self.data: pd.Dataframe = data\n",
    "        self.price_column: str = price_column\n",
    "        self.start: Optional[datetime] = start\n",
    "        self.end: Optional[datetime] = end\n",
    "        self.results = None\n",
    "        self.strategies: set = set()\n",
    "        self.lookback: int = lookback\n",
    "        \n",
    "        # naive strategy is needed to be calculated only once\n",
    "        self.set_strategy_parameters(1)\n",
    "\n",
    "        if self.window_size != 1:\n",
    "            self.set_strategy_parameters(window_size)\n",
    "        self.strategy_return = 0\n",
    "        #assert self.start < self.end\n",
    "        \n",
    "    @staticmethod\n",
    "    def prepare_data(data_klines: list, lookback: int = 75)-> pd.DataFrame:\n",
    "        \"\"\"Will prepare a dataframe from to be used with the strategy Range High Volume \n",
    "\n",
    "        Args:\n",
    "            data_klines: list A list created from get_historical_klines\n",
    "            lookback: (int, optional) Number of candles that will be use for the calculus of highVolume and lowVolume and the BO and BD. Defaults to 75.\n",
    "\n",
    "        Returns:\n",
    "            pd.DataFrame: a Dataframe containing all the data needed for being used with the class HRVJ_Backtesters \n",
    "        \"\"\"\n",
    "        lookback = lookback\n",
    "    \n",
    "        def column_from_series(s: pd.Series, column: str):\n",
    "            hvb = data.loc[s.idxmax(), column]\n",
    "            return hvb\n",
    "        \n",
    "        # Create the dataframe from the list containing the raw data\n",
    "        data = ToolboxPriceAnalytics.dataframe_from_historicalklines(data_klines)\n",
    "        \n",
    "        # Calculate all the columns that will be needed\n",
    "        data[\"highVB\"] = data.volume.rolling(lookback).apply(column_from_series,  kwargs={'column':\"high\"}, raw=False)\n",
    "        data[\"lowVB\"] = data.volume.rolling(lookback).apply(column_from_series,  kwargs={'column':\"low\"}, raw=False)\n",
    "        data[\"volMA\"] = data.volume.rolling(20).mean()\n",
    "        data[\"volNext\"] = data.volume.shift(1)\n",
    "        data[\"cloNext\"] = data.close.shift(1)\n",
    "        data[\"overMidBar\"] = (data.close-data.low)/(data.high-data.low) > 0.5\n",
    "        data[\"underMidBar\"] = (data.close-data.low)/(data.high-data.low) < 0.5\n",
    "        data[\"breakout\"] = np.where((data.cloNext<data.highVB) & (data.close>data.highVB) & (data.volume>data.volMA)  & data.overMidBar, 1, 0)\n",
    "        data[\"breakdown\"] = np.where((data.cloNext>data.lowVB) & (data.close<data.lowVB) & (data.volume>data.volMA)  & data.underMidBar, 1, 0)\n",
    "        \n",
    "        data[\"time\"] = data[\"time\"].astype(str).apply(lambda tm: datetime.fromtimestamp(int(tm[:-3])))\n",
    "        data.set_index(\"time\", inplace=True)\n",
    "        \n",
    "        return data.fillna(0)\n",
    "        \n",
    "    def set_strategy_parameters(self, window_size: int) -> tuple:\n",
    "        \"\"\"Set all the parameters for the strategy: Volume Bar Breakout / Breakdown: \n",
    "        https://www.tradingview.com/script/V2cjsLhI-Volume-Bar-Breakout-and-Breakdown-Indicator/ \n",
    "        \n",
    "        This class is an excuse for creating and testing a class where we are using a non-trivial strategy and how we can check the \n",
    "        strategy using a brute-force test.\n",
    "        \n",
    "        Note:\n",
    "        The low volume of data allow me to include all the data in each row for easy testing, so instead of doing df.diff(), I'll store the\n",
    "        columns and then substract it.\n",
    "\n",
    "        Args:\n",
    "            window_size (int): Size of the window (in candles) for testing te strategy.\n",
    "\n",
    "        Returns:\n",
    "            tuple: check run_strategy \n",
    "        \"\"\"\n",
    "        assert self.window_size > 0\n",
    "        self.window_size = window_size\n",
    "        \n",
    "        if window_size not in self.strategies:\n",
    "            self.strategies.add(window_size)\n",
    "        else:\n",
    "            return self.run_strategy()\n",
    "        \n",
    "        str_window_size = str(window_size)\n",
    "        \n",
    "        self.data['current_window'] = self.window_size\n",
    "        self.data[\"cloFuture_\"+str_window_size] = self.data.close.shift(-window_size)\n",
    "        self.data[\"volFuture_\"+str_window_size] = self.data.volume.shift(-window_size)\n",
    "\n",
    "        # Storing the fail history\n",
    "        self.data[\"fail_\"+str_window_size] = 0\n",
    "        self.data[\"fail_bo_\"+str_window_size] = 0\n",
    "        self.data[\"fail_bd_\"+str_window_size] = 0\n",
    "        self.data[\"fail_bo_\"+str_window_size] = np.where((self.data.breakout==1) & (self.data.close > self.data[\"cloFuture_\"+str_window_size]),\n",
    "                                                           self.data[\"fail_\"+str_window_size]+1,\n",
    "                                                           self.data[\"fail_\"+str_window_size])\n",
    "        self.data[\"fail_bd_\"+str_window_size] = np.where((self.data.breakdown==1) & (self.data.close < self.data[\"cloFuture_\"+str_window_size]),\n",
    "                                                           self.data[\"fail_\"+str_window_size]+1,\n",
    "                                                           self.data[\"fail_\"+str_window_size])\n",
    "        self.data[\"fail_\"+str_window_size] = self.data[\"fail_bo_\"+str_window_size]+self.data[\"fail_bd_\"+str_window_size]\n",
    "        \n",
    "        # Storing the success\n",
    "        self.data[\"succ_\"+str_window_size] = 0\n",
    "        self.data[\"succ_bo_\"+str_window_size] = 0\n",
    "        self.data[\"succ_bd_\"+str_window_size] = 0\n",
    "        self.data[\"succ_bo_\"+str_window_size] = np.where(\n",
    "            self.data.breakout & (self.data.close < self.data[\"cloFuture_\" + str_window_size]),\n",
    "            self.data[\"succ_\"+str_window_size] + 1,\n",
    "            self.data[\"succ_\"+str_window_size])\n",
    "        self.data[\"succ_bd_\"+str_window_size] = np.where(\n",
    "            self.data.breakdown & (self.data.close > self.data[\"cloFuture_\" + str_window_size]),\n",
    "            self.data[\"succ_\"+str_window_size] + 1,\n",
    "            self.data[\"succ_\"+str_window_size])\n",
    "        self.data[\"succ_\"+str_window_size] = self.data[\"succ_bo_\"+str_window_size]+self.data[\"succ_bd_\"+str_window_size]\n",
    "        \n",
    "        # Storing the accumulate fail and success in price and percentage\n",
    "        self.data[\"close_fail_bo_\"+str_window_size] = np.where(self.data[\"fail_bo_\"+str_window_size], \n",
    "                                                        self.data.breakout*(self.data[\"cloFuture_\"+str_window_size]-self.data.close),\n",
    "                                                        0)\n",
    "        # We represent the fails with negative numbers, so when we have a close_succ_db even though the future_close-initial_close is positive, \n",
    "        # the loss needs to be presented with a negative (becasue we are in a sell)\n",
    "        self.data[\"close_fail_bd_\"+str_window_size] = np.where(self.data[\"fail_bd_\"+str_window_size], \n",
    "                                                        -self.data.breakdown*(self.data[\"cloFuture_\"+str_window_size]-self.data.close),\n",
    "                                                        0)\n",
    "        self.data[\"close_fail_\"+str_window_size] =  self.data[\"close_fail_bo_\"+str_window_size] + self.data[\"close_fail_bd_\"+str_window_size]\n",
    "    \n",
    "        # this will be positive as needs to be presented in a successful breakout\n",
    "        self.data[\"close_succ_bo_\"+str_window_size] = np.where(self.data[\"succ_\"+str_window_size],\n",
    "                                                       self.data.breakout*(self.data[\"cloFuture_\"+str_window_size]-self.data.close),\n",
    "                                                       0)\n",
    "        # this will be -1*X so positive as needs to be presented in a succcessful breakdown\n",
    "        self.data[\"close_succ_bd_\"+str_window_size] = np.where(self.data[\"succ_\"+str_window_size],\n",
    "                                                       -self.data.breakdown*(self.data[\"cloFuture_\"+str_window_size]-self.data.close),\n",
    "                                                       0)\n",
    "        # this will be a positive number (or 0)\n",
    "        self.data[\"close_succ_\"+str_window_size] = self.data[\"close_succ_bo_\"+str_window_size] + self.data[\"close_succ_bd_\"+str_window_size]\n",
    "        \n",
    "        # The total strategy is to follow every single bo and bd\n",
    "        self.data['total_return_strategy_'+str_window_size] = self.data['close_succ_'+str_window_size].cumsum() + self.data['close_fail_'+str_window_size].cumsum()\n",
    "        \n",
    "        # base case\n",
    "        if window_size==1:\n",
    "            # Buy and Hold is begining - final price, always\n",
    "            self.data['naivestrategy'] = self.data.iloc[-1]['close']-self.data.iloc[0]['close']\n",
    "        \n",
    "        # return for this windows size without strategy\n",
    "        self.data['no_strategy_return_'+str_window_size] = (self.data[self.price_column].shift(-self.window_size) - self.data[self.price_column] ) / self.data[self.price_column]\n",
    "        self.data.fillna(0, inplace=True)\n",
    "        self.run_strategy()\n",
    "\n",
    "    def run_strategy(self)-> tuple:\n",
    "        \"\"\"\n",
    "        Backtests the trading strategy.\n",
    "        returns: (performance_strategy, performance_strategy - naive)\n",
    "        \"\"\"\n",
    "        str_ws = str(self.window_size)\n",
    "        # gross performance of the strategy\n",
    "        aperf = self.data['total_return_strategy_'+str_ws].iloc[-1]\n",
    "        # out-/underperformance of strategy\n",
    "        operf = aperf - self.data['naivestrategy'].iloc[-1]\n",
    "        self.strategy_return = (round(aperf, 10), round(operf, 10))\n",
    "        return self.strategy_return\n",
    "\n",
    "    # def plot_results(self):\n",
    "    #     ''' Plots the cumulative performance of the trading strategy\n",
    "    #     compared to the symbol.\n",
    "    #     '''\n",
    "    #     if self.results is None:\n",
    "    #         print('No results to plot yet. Run a strategy.')\n",
    "    #     title = '%s | SMA1=%d, SMA2=%d' % (self.symbol,\n",
    "    #                                        self.SMA1, self.SMA2)\n",
    "    #     self.results[['naivestrategy', 'cstrategy']].plot(title=title,\n",
    "    #                                                       figsize=(10, 6))\n",
    "\n",
    "    def update_and_run(self, parameter):\n",
    "        \"\"\" Updates parameters and returns negative absolute performance (for minimization algorithm).\n",
    "        returns negative performance of the strategy\n",
    "        \"\"\"\n",
    "        self.set_strategy_parameters(parameter[0])\n",
    "        res = -self.run_strategy()[0]\n",
    "        return res\n",
    "\n",
    "    def optimize_parameters(self, parameter_range):\n",
    "        \"\"\" Finds global maximum given the SMA parameter ranges.\n",
    "        Parameters: tuple\n",
    "            tuples of the form (start, end, step size)\n",
    "        \"\"\"\n",
    "        opt = brute(self.update_and_run, (parameter_range,), finish=None)\n",
    "        return opt, -self.update_and_run((int(opt),))\n",
    "    \n",
    "    def describe_strategy(self, window_size:int, force:bool=False)->dict:\n",
    "        \"\"\" Set the window_size and run the strategy for returning the results of the strategy in a human-readable way\n",
    "\n",
    "        Args:\n",
    "            window_size (int): number of candles that will use in this strategy\n",
    "            force (bool, optional): force the set of the window_size in case it is not\n",
    "\n",
    "        Returns:\n",
    "            dict: A dictionary containing all the strategy results for the current window_size\n",
    "        \"\"\"\n",
    "        if window_size not in self.strategies and force:\n",
    "            self.set_strategy_parameters(window_size)\n",
    "        elif window_size not in self.strategies and not force:\n",
    "            return {}\n",
    "\n",
    "        str_ws         = str(window_size)\n",
    "        num_fails_bo   = self.data[\"fail_bo_\"+str_ws].sum()\n",
    "        num_fails_bd   = self.data[\"fail_bd_\"+str_ws].sum()\n",
    "        num_fails      = self.data[\"fail_\"+str_ws].sum()\n",
    "        num_succ_bo    = self.data[\"succ_bo_\"+str_ws].sum()\n",
    "        num_succ_bd    = self.data[\"succ_bd_\"+str_ws].sum()\n",
    "        num_succ       = self.data[\"succ_\"+str_ws].sum()\n",
    "        total_signals  = num_fails+num_succ\n",
    "        perct_fail             = 0 if total_signals == 0 else num_fails/total_signals\n",
    "        perct_fail_bo_vs_total = 0 if total_signals == 0 else num_fails_bo / total_signals\n",
    "        perct_fail_bo_vs_bo    = 0 if (num_fails_bo+num_succ_bo) == 0 else num_fails_bo / (num_fails_bo+num_succ_bo)\n",
    "        perct_fail_bd_vs_total = 0 if total_signals == 0 else num_fails_bd / total_signals\n",
    "        perct_fail_bd_vs_bd    = 0 if (num_fails_bd+num_succ_bd) == 0 else num_fails_bd / (num_fails_bd+num_succ_bd)\n",
    "        perct_succ     = 0 if total_signals == 0 else 1-perct_fail\n",
    "        price_fails    = self.data[\"close_fail_\"+str_ws].sum()\n",
    "        price_succ     = self.data[\"close_succ_\"+str_ws].sum()\n",
    "        price_fails_bo = self.data[\"close_fail_bo_\"+str_ws].sum()\n",
    "        price_fails_bd = self.data[\"close_fail_bd_\"+str_ws].sum()\n",
    "        price_succ_bo  = self.data[\"close_succ_bo_\"+str_ws].sum()\n",
    "        price_succ_bd  = self.data[\"close_succ_bd_\"+str_ws].sum()\n",
    "        res = { 'window_size'          : window_size,\n",
    "                'total_signals'        : total_signals,\n",
    "                'total_bo_signals'     : self.data['breakout'].sum(),\n",
    "                'total_db_signals'     : self.data['breakdown'].sum(),\n",
    "                'num_fails'            : num_fails, \n",
    "                'num_succ'             : num_succ,\n",
    "                'num_fails_bo'         : num_fails_bo,\n",
    "                'num_succ_bo'          : num_succ_bo,\n",
    "                'perct_fail_bo'        : perct_fail_bo_vs_total,\n",
    "                'price_fails_bo'       : price_fails_bo,\n",
    "                'price_succ_bo'        : price_succ_bo,\n",
    "                'perct_fail_bo_vs_bo'  : perct_fail_bo_vs_bo,\n",
    "                'num_fails_bd'         : num_fails_bd,\n",
    "                'num_succ_bd'          : num_succ_bd,\n",
    "                'price_succ_bd'        : price_succ_bd,\n",
    "                'price_fails_bd'       : price_fails_bd,\n",
    "                'perct_fail_bd'        : perct_fail_bd_vs_total,\n",
    "                'perct_fail_bd_vs_bd'  : perct_fail_bd_vs_bd,\n",
    "                'total_perct_fail'     : perct_fail, \n",
    "                'total_perct_succ'     : perct_succ, \n",
    "                'total_price_fail'    : price_fails, \n",
    "                'total_price_succ'     : price_succ, \n",
    "                'total_max_pain_radio' : self.data['total_return_strategy_'+str_ws].min(),\n",
    "                'total_max_gain_radio' : self.data['total_return_strategy_'+str_ws].max(),\n",
    "                'total_return_strategy': self.data[\"total_return_strategy_\"+str_ws].iloc[-1],\n",
    "                'total_return_naive'   : self.data[\"naivestrategy\"].iloc[-1]}\n",
    "        return res\n",
    "    \n",
    "    def describe_strategies(self, windows_sizes: list, force:bool=False)->pd.DataFrame:\n",
    "        res = [self.describe_strategy(i,force) for i in windows_sizes ] \n",
    "        return pd.DataFrame(res)"
   ]
  },
  {
   "cell_type": "markdown",
   "metadata": {
    "pycharm": {
     "name": "#%% md\n"
    }
   },
   "source": [
    " Study of the strategy for 1Hour interval in the last 6 days. 1st we get the data, then we prepare the data and, we run the strategy"
   ]
  },
  {
   "cell_type": "code",
   "execution_count": 5,
   "metadata": {
    "pycharm": {
     "name": "#%%\n"
    }
   },
   "outputs": [],
   "source": [
    "data_1h_6d = client.get_historical_klines(coin, Client.KLINE_INTERVAL_1HOUR, \"6 day ago UTC\")\n",
    "data_n = HVRJBacktester2.prepare_data(data_1h_6d.copy())"
   ]
  },
  {
   "cell_type": "code",
   "execution_count": 6,
   "metadata": {
    "pycharm": {
     "name": "#%%\n"
    }
   },
   "outputs": [
    {
     "data": {
      "text/plain": "   window_size  total_signals  total_bo_signals  total_db_signals  num_fails  num_succ  num_fails_bo  num_succ_bo  perct_fail_bo  price_fails_bo  price_succ_bo  perct_fail_bo_vs_bo  num_fails_bd  num_succ_bd  price_succ_bd  price_fails_bd  perct_fail_bd  perct_fail_bd_vs_bd  total_perct_fail  total_perct_succ  total_price_fail  total_price_succ  total_max_pain_radio  total_max_gain_radio  total_return_strategy  total_return_naive\n0            1              2                 0                 2          1         1             0            0            0.0             0.0            0.0                    0             1            1          98.29         -140.65            0.5                  0.5               0.5               0.5           -140.65             98.29               -140.65                   0.0                 -42.36              735.56\n1            2              2                 0                 2          1         1             0            0            0.0             0.0            0.0                    0             1            1          80.02          -90.32            0.5                  0.5               0.5               0.5            -90.32             80.02                -90.32                   0.0                 -10.30              735.56\n2            3              2                 0                 2          2         0             0            0            0.0             0.0            0.0                    0             2            0           0.00         -291.67            1.0                  1.0               1.0               0.0           -291.67              0.00               -291.67                   0.0                -291.67              735.56\n3            4              2                 0                 2          2         0             0            0            0.0             0.0            0.0                    0             2            0           0.00         -210.50            1.0                  1.0               1.0               0.0           -210.50              0.00               -210.50                   0.0                -210.50              735.56",
      "text/html": "<div>\n<style scoped>\n    .dataframe tbody tr th:only-of-type {\n        vertical-align: middle;\n    }\n\n    .dataframe tbody tr th {\n        vertical-align: top;\n    }\n\n    .dataframe thead th {\n        text-align: right;\n    }\n</style>\n<table border=\"1\" class=\"dataframe\">\n  <thead>\n    <tr style=\"text-align: right;\">\n      <th></th>\n      <th>window_size</th>\n      <th>total_signals</th>\n      <th>total_bo_signals</th>\n      <th>total_db_signals</th>\n      <th>num_fails</th>\n      <th>num_succ</th>\n      <th>num_fails_bo</th>\n      <th>num_succ_bo</th>\n      <th>perct_fail_bo</th>\n      <th>price_fails_bo</th>\n      <th>price_succ_bo</th>\n      <th>perct_fail_bo_vs_bo</th>\n      <th>num_fails_bd</th>\n      <th>num_succ_bd</th>\n      <th>price_succ_bd</th>\n      <th>price_fails_bd</th>\n      <th>perct_fail_bd</th>\n      <th>perct_fail_bd_vs_bd</th>\n      <th>total_perct_fail</th>\n      <th>total_perct_succ</th>\n      <th>total_price_fail</th>\n      <th>total_price_succ</th>\n      <th>total_max_pain_radio</th>\n      <th>total_max_gain_radio</th>\n      <th>total_return_strategy</th>\n      <th>total_return_naive</th>\n    </tr>\n  </thead>\n  <tbody>\n    <tr>\n      <th>0</th>\n      <td>1</td>\n      <td>2</td>\n      <td>0</td>\n      <td>2</td>\n      <td>1</td>\n      <td>1</td>\n      <td>0</td>\n      <td>0</td>\n      <td>0.0</td>\n      <td>0.0</td>\n      <td>0.0</td>\n      <td>0</td>\n      <td>1</td>\n      <td>1</td>\n      <td>98.29</td>\n      <td>-140.65</td>\n      <td>0.5</td>\n      <td>0.5</td>\n      <td>0.5</td>\n      <td>0.5</td>\n      <td>-140.65</td>\n      <td>98.29</td>\n      <td>-140.65</td>\n      <td>0.0</td>\n      <td>-42.36</td>\n      <td>735.56</td>\n    </tr>\n    <tr>\n      <th>1</th>\n      <td>2</td>\n      <td>2</td>\n      <td>0</td>\n      <td>2</td>\n      <td>1</td>\n      <td>1</td>\n      <td>0</td>\n      <td>0</td>\n      <td>0.0</td>\n      <td>0.0</td>\n      <td>0.0</td>\n      <td>0</td>\n      <td>1</td>\n      <td>1</td>\n      <td>80.02</td>\n      <td>-90.32</td>\n      <td>0.5</td>\n      <td>0.5</td>\n      <td>0.5</td>\n      <td>0.5</td>\n      <td>-90.32</td>\n      <td>80.02</td>\n      <td>-90.32</td>\n      <td>0.0</td>\n      <td>-10.30</td>\n      <td>735.56</td>\n    </tr>\n    <tr>\n      <th>2</th>\n      <td>3</td>\n      <td>2</td>\n      <td>0</td>\n      <td>2</td>\n      <td>2</td>\n      <td>0</td>\n      <td>0</td>\n      <td>0</td>\n      <td>0.0</td>\n      <td>0.0</td>\n      <td>0.0</td>\n      <td>0</td>\n      <td>2</td>\n      <td>0</td>\n      <td>0.00</td>\n      <td>-291.67</td>\n      <td>1.0</td>\n      <td>1.0</td>\n      <td>1.0</td>\n      <td>0.0</td>\n      <td>-291.67</td>\n      <td>0.00</td>\n      <td>-291.67</td>\n      <td>0.0</td>\n      <td>-291.67</td>\n      <td>735.56</td>\n    </tr>\n    <tr>\n      <th>3</th>\n      <td>4</td>\n      <td>2</td>\n      <td>0</td>\n      <td>2</td>\n      <td>2</td>\n      <td>0</td>\n      <td>0</td>\n      <td>0</td>\n      <td>0.0</td>\n      <td>0.0</td>\n      <td>0.0</td>\n      <td>0</td>\n      <td>2</td>\n      <td>0</td>\n      <td>0.00</td>\n      <td>-210.50</td>\n      <td>1.0</td>\n      <td>1.0</td>\n      <td>1.0</td>\n      <td>0.0</td>\n      <td>-210.50</td>\n      <td>0.00</td>\n      <td>-210.50</td>\n      <td>0.0</td>\n      <td>-210.50</td>\n      <td>735.56</td>\n    </tr>\n  </tbody>\n</table>\n</div>"
     },
     "execution_count": 6,
     "metadata": {},
     "output_type": "execute_result"
    }
   ],
   "source": [
    "strateg = HVRJBacktester2(data_n.copy(), 'close', 1)\n",
    "strateg.optimize_parameters((1,5,1))\n",
    "strateg.describe_strategies(list(range(1,5)))"
   ]
  },
  {
   "cell_type": "code",
   "execution_count": 7,
   "outputs": [
    {
     "data": {
      "text/plain": "<AxesSubplot:title={'center':'return'}, xlabel='window_size'>"
     },
     "execution_count": 7,
     "metadata": {},
     "output_type": "execute_result"
    },
    {
     "data": {
      "text/plain": "<Figure size 720x720 with 1 Axes>",
      "image/png": "[encoded data removed]"
     },
     "metadata": {
      "needs_background": "light"
     },
     "output_type": "display_data"
    }
   ],
   "source": [
    "strateg.describe_strategies(list(range(1,5))).plot(kind='bar',\n",
    "                                                   x='window_size', \n",
    "                                                       y=['total_max_pain_radio', 'total_max_gain_radio', 'total_return_strategy', 'total_return_naive'],\n",
    "                                                       title=\"return\",\n",
    "                                                       figsize=(10,10))"
   ],
   "metadata": {
    "collapsed": false,
    "pycharm": {
     "name": "#%%\n"
    }
   }
  },
  {
   "cell_type": "markdown",
   "metadata": {
    "pycharm": {
     "name": "#%% md\n"
    }
   },
   "source": [
    "# Study 1h interval"
   ]
  },
  {
   "cell_type": "markdown",
   "metadata": {
    "pycharm": {
     "name": "#%% md\n"
    }
   },
   "source": [
    "### In the last 365 days"
   ]
  },
  {
   "cell_type": "code",
   "execution_count": 8,
   "metadata": {
    "pycharm": {
     "name": "#%%\n"
    }
   },
   "outputs": [],
   "source": [
    "data_1h_365d = client.get_historical_klines(coin, Client.KLINE_INTERVAL_1HOUR, \"365 day ago UTC\")\n",
    "data_1h_365d = HVRJBacktester2.prepare_data(data_1h_365d.copy())"
   ]
  },
  {
   "cell_type": "code",
   "execution_count": 9,
   "metadata": {
    "pycharm": {
     "name": "#%%\n"
    }
   },
   "outputs": [
    {
     "data": {
      "text/plain": "   window_size  total_signals  total_bo_signals  total_db_signals  num_fails  num_succ  num_fails_bo  num_succ_bo  perct_fail_bo  price_fails_bo  price_succ_bo  perct_fail_bo_vs_bo  num_fails_bd  num_succ_bd  price_succ_bd  price_fails_bd  perct_fail_bd  perct_fail_bd_vs_bd  total_perct_fail  total_perct_succ  total_price_fail  total_price_succ  total_max_pain_radio  total_max_gain_radio  total_return_strategy  total_return_naive\n0            1            276               117               159        154       122            57           60       0.206522       -12061.32       18782.88             0.487179            97           62       21224.59       -24024.13       0.351449             0.610063          0.557971          0.442029         -36085.45          40007.47              -3309.89               6123.27                3922.02           -15904.68\n1            2            276               117               159        162       114            61           56       0.221014       -15465.14       23740.82             0.521368           101           58       26831.40       -33793.62       0.365942             0.635220          0.586957          0.413043         -49258.76          50572.22              -3250.32               7578.30                1313.46           -15904.68\n2            3            276               117               159        149       127            52           65       0.188406       -19217.38       28866.06             0.444444            97           62       30005.47       -41675.43       0.351449             0.610063          0.539855          0.460145         -60892.81          58871.53              -6613.52               4822.88               -2021.28           -15904.68\n3            4            276               117               159        145       131            53           64       0.192029       -24974.03       29135.24             0.452991            92           67       41210.11       -49290.62       0.333333             0.578616          0.525362          0.474638         -74264.65          70345.35             -12624.47                 99.48               -3919.30           -15904.68",
      "text/html": "<div>\n<style scoped>\n    .dataframe tbody tr th:only-of-type {\n        vertical-align: middle;\n    }\n\n    .dataframe tbody tr th {\n        vertical-align: top;\n    }\n\n    .dataframe thead th {\n        text-align: right;\n    }\n</style>\n<table border=\"1\" class=\"dataframe\">\n  <thead>\n    <tr style=\"text-align: right;\">\n      <th></th>\n      <th>window_size</th>\n      <th>total_signals</th>\n      <th>total_bo_signals</th>\n      <th>total_db_signals</th>\n      <th>num_fails</th>\n      <th>num_succ</th>\n      <th>num_fails_bo</th>\n      <th>num_succ_bo</th>\n      <th>perct_fail_bo</th>\n      <th>price_fails_bo</th>\n      <th>price_succ_bo</th>\n      <th>perct_fail_bo_vs_bo</th>\n      <th>num_fails_bd</th>\n      <th>num_succ_bd</th>\n      <th>price_succ_bd</th>\n      <th>price_fails_bd</th>\n      <th>perct_fail_bd</th>\n      <th>perct_fail_bd_vs_bd</th>\n      <th>total_perct_fail</th>\n      <th>total_perct_succ</th>\n      <th>total_price_fail</th>\n      <th>total_price_succ</th>\n      <th>total_max_pain_radio</th>\n      <th>total_max_gain_radio</th>\n      <th>total_return_strategy</th>\n      <th>total_return_naive</th>\n    </tr>\n  </thead>\n  <tbody>\n    <tr>\n      <th>0</th>\n      <td>1</td>\n      <td>276</td>\n      <td>117</td>\n      <td>159</td>\n      <td>154</td>\n      <td>122</td>\n      <td>57</td>\n      <td>60</td>\n      <td>0.206522</td>\n      <td>-12061.32</td>\n      <td>18782.88</td>\n      <td>0.487179</td>\n      <td>97</td>\n      <td>62</td>\n      <td>21224.59</td>\n      <td>-24024.13</td>\n      <td>0.351449</td>\n      <td>0.610063</td>\n      <td>0.557971</td>\n      <td>0.442029</td>\n      <td>-36085.45</td>\n      <td>40007.47</td>\n      <td>-3309.89</td>\n      <td>6123.27</td>\n      <td>3922.02</td>\n      <td>-15904.68</td>\n    </tr>\n    <tr>\n      <th>1</th>\n      <td>2</td>\n      <td>276</td>\n      <td>117</td>\n      <td>159</td>\n      <td>162</td>\n      <td>114</td>\n      <td>61</td>\n      <td>56</td>\n      <td>0.221014</td>\n      <td>-15465.14</td>\n      <td>23740.82</td>\n      <td>0.521368</td>\n      <td>101</td>\n      <td>58</td>\n      <td>26831.40</td>\n      <td>-33793.62</td>\n      <td>0.365942</td>\n      <td>0.635220</td>\n      <td>0.586957</td>\n      <td>0.413043</td>\n      <td>-49258.76</td>\n      <td>50572.22</td>\n      <td>-3250.32</td>\n      <td>7578.30</td>\n      <td>1313.46</td>\n      <td>-15904.68</td>\n    </tr>\n    <tr>\n      <th>2</th>\n      <td>3</td>\n      <td>276</td>\n      <td>117</td>\n      <td>159</td>\n      <td>149</td>\n      <td>127</td>\n      <td>52</td>\n      <td>65</td>\n      <td>0.188406</td>\n      <td>-19217.38</td>\n      <td>28866.06</td>\n      <td>0.444444</td>\n      <td>97</td>\n      <td>62</td>\n      <td>30005.47</td>\n      <td>-41675.43</td>\n      <td>0.351449</td>\n      <td>0.610063</td>\n      <td>0.539855</td>\n      <td>0.460145</td>\n      <td>-60892.81</td>\n      <td>58871.53</td>\n      <td>-6613.52</td>\n      <td>4822.88</td>\n      <td>-2021.28</td>\n      <td>-15904.68</td>\n    </tr>\n    <tr>\n      <th>3</th>\n      <td>4</td>\n      <td>276</td>\n      <td>117</td>\n      <td>159</td>\n      <td>145</td>\n      <td>131</td>\n      <td>53</td>\n      <td>64</td>\n      <td>0.192029</td>\n      <td>-24974.03</td>\n      <td>29135.24</td>\n      <td>0.452991</td>\n      <td>92</td>\n      <td>67</td>\n      <td>41210.11</td>\n      <td>-49290.62</td>\n      <td>0.333333</td>\n      <td>0.578616</td>\n      <td>0.525362</td>\n      <td>0.474638</td>\n      <td>-74264.65</td>\n      <td>70345.35</td>\n      <td>-12624.47</td>\n      <td>99.48</td>\n      <td>-3919.30</td>\n      <td>-15904.68</td>\n    </tr>\n  </tbody>\n</table>\n</div>"
     },
     "execution_count": 9,
     "metadata": {},
     "output_type": "execute_result"
    }
   ],
   "source": [
    "strateg = HVRJBacktester2(data_1h_365d.copy(), 'close', 1)\n",
    "strateg.optimize_parameters((1,5,1))\n",
    "strateg.describe_strategies(list(range(1,5)))"
   ]
  },
  {
   "cell_type": "markdown",
   "metadata": {
    "pycharm": {
     "name": "#%% md\n"
    }
   },
   "source": [
    "### From Feb to Oct 2021 because it is a year with a low and a high in a few months"
   ]
  },
  {
   "cell_type": "code",
   "execution_count": 10,
   "metadata": {
    "pycharm": {
     "name": "#%%\n"
    }
   },
   "outputs": [
    {
     "data": {
      "text/plain": "   window_size  total_signals  total_bo_signals  total_db_signals  num_fails  num_succ  num_fails_bo  num_succ_bo  perct_fail_bo  price_fails_bo  price_succ_bo  perct_fail_bo_vs_bo  num_fails_bd  num_succ_bd  price_succ_bd  price_fails_bd  perct_fail_bd  perct_fail_bd_vs_bd  total_perct_fail  total_perct_succ  total_price_fail  total_price_succ  total_max_pain_radio  total_max_gain_radio  total_return_strategy  total_return_naive\n0            1            189                86               103        100        89            37           49       0.195767        -8090.68       15160.63             0.430233            63           40       15659.56       -16606.24       0.333333             0.611650          0.529101          0.470899         -24696.92          30820.19              -3309.89               6123.27                6123.27            -9886.15\n1            2            189                86               103        101        88            40           46       0.211640       -10029.22       19412.65             0.465116            61           42       21014.34       -22828.90       0.322751             0.592233          0.534392          0.465608         -32858.12          40426.99              -3250.32               7578.30                7568.87            -9886.15\n2            3            189                86               103         96        93            37           49       0.195767       -12934.54       24099.78             0.430233            59           44       22144.77       -28829.55       0.312169             0.572816          0.507937          0.492063         -41764.09          46244.55              -6613.52               4822.88                4480.46            -9886.15\n3            4            189                86               103         94        95            35           51       0.185185       -18517.38       25596.51             0.406977            59           44       27541.81       -37126.29       0.312169             0.572816          0.497354          0.502646         -55643.67          53138.32             -12624.47                 99.48               -2505.35            -9886.15",
      "text/html": "<div>\n<style scoped>\n    .dataframe tbody tr th:only-of-type {\n        vertical-align: middle;\n    }\n\n    .dataframe tbody tr th {\n        vertical-align: top;\n    }\n\n    .dataframe thead th {\n        text-align: right;\n    }\n</style>\n<table border=\"1\" class=\"dataframe\">\n  <thead>\n    <tr style=\"text-align: right;\">\n      <th></th>\n      <th>window_size</th>\n      <th>total_signals</th>\n      <th>total_bo_signals</th>\n      <th>total_db_signals</th>\n      <th>num_fails</th>\n      <th>num_succ</th>\n      <th>num_fails_bo</th>\n      <th>num_succ_bo</th>\n      <th>perct_fail_bo</th>\n      <th>price_fails_bo</th>\n      <th>price_succ_bo</th>\n      <th>perct_fail_bo_vs_bo</th>\n      <th>num_fails_bd</th>\n      <th>num_succ_bd</th>\n      <th>price_succ_bd</th>\n      <th>price_fails_bd</th>\n      <th>perct_fail_bd</th>\n      <th>perct_fail_bd_vs_bd</th>\n      <th>total_perct_fail</th>\n      <th>total_perct_succ</th>\n      <th>total_price_fail</th>\n      <th>total_price_succ</th>\n      <th>total_max_pain_radio</th>\n      <th>total_max_gain_radio</th>\n      <th>total_return_strategy</th>\n      <th>total_return_naive</th>\n    </tr>\n  </thead>\n  <tbody>\n    <tr>\n      <th>0</th>\n      <td>1</td>\n      <td>189</td>\n      <td>86</td>\n      <td>103</td>\n      <td>100</td>\n      <td>89</td>\n      <td>37</td>\n      <td>49</td>\n      <td>0.195767</td>\n      <td>-8090.68</td>\n      <td>15160.63</td>\n      <td>0.430233</td>\n      <td>63</td>\n      <td>40</td>\n      <td>15659.56</td>\n      <td>-16606.24</td>\n      <td>0.333333</td>\n      <td>0.611650</td>\n      <td>0.529101</td>\n      <td>0.470899</td>\n      <td>-24696.92</td>\n      <td>30820.19</td>\n      <td>-3309.89</td>\n      <td>6123.27</td>\n      <td>6123.27</td>\n      <td>-9886.15</td>\n    </tr>\n    <tr>\n      <th>1</th>\n      <td>2</td>\n      <td>189</td>\n      <td>86</td>\n      <td>103</td>\n      <td>101</td>\n      <td>88</td>\n      <td>40</td>\n      <td>46</td>\n      <td>0.211640</td>\n      <td>-10029.22</td>\n      <td>19412.65</td>\n      <td>0.465116</td>\n      <td>61</td>\n      <td>42</td>\n      <td>21014.34</td>\n      <td>-22828.90</td>\n      <td>0.322751</td>\n      <td>0.592233</td>\n      <td>0.534392</td>\n      <td>0.465608</td>\n      <td>-32858.12</td>\n      <td>40426.99</td>\n      <td>-3250.32</td>\n      <td>7578.30</td>\n      <td>7568.87</td>\n      <td>-9886.15</td>\n    </tr>\n    <tr>\n      <th>2</th>\n      <td>3</td>\n      <td>189</td>\n      <td>86</td>\n      <td>103</td>\n      <td>96</td>\n      <td>93</td>\n      <td>37</td>\n      <td>49</td>\n      <td>0.195767</td>\n      <td>-12934.54</td>\n      <td>24099.78</td>\n      <td>0.430233</td>\n      <td>59</td>\n      <td>44</td>\n      <td>22144.77</td>\n      <td>-28829.55</td>\n      <td>0.312169</td>\n      <td>0.572816</td>\n      <td>0.507937</td>\n      <td>0.492063</td>\n      <td>-41764.09</td>\n      <td>46244.55</td>\n      <td>-6613.52</td>\n      <td>4822.88</td>\n      <td>4480.46</td>\n      <td>-9886.15</td>\n    </tr>\n    <tr>\n      <th>3</th>\n      <td>4</td>\n      <td>189</td>\n      <td>86</td>\n      <td>103</td>\n      <td>94</td>\n      <td>95</td>\n      <td>35</td>\n      <td>51</td>\n      <td>0.185185</td>\n      <td>-18517.38</td>\n      <td>25596.51</td>\n      <td>0.406977</td>\n      <td>59</td>\n      <td>44</td>\n      <td>27541.81</td>\n      <td>-37126.29</td>\n      <td>0.312169</td>\n      <td>0.572816</td>\n      <td>0.497354</td>\n      <td>0.502646</td>\n      <td>-55643.67</td>\n      <td>53138.32</td>\n      <td>-12624.47</td>\n      <td>99.48</td>\n      <td>-2505.35</td>\n      <td>-9886.15</td>\n    </tr>\n  </tbody>\n</table>\n</div>"
     },
     "execution_count": 10,
     "metadata": {},
     "output_type": "execute_result"
    }
   ],
   "source": [
    "strateg = HVRJBacktester2(data_1h_365d.iloc[:-2640].copy(), 'close', 1)\n",
    "strateg.optimize_parameters((1,5,1))\n",
    "strateg.describe_strategies(list(range(1,5)))"
   ]
  },
  {
   "cell_type": "markdown",
   "metadata": {
    "pycharm": {
     "name": "#%% md\n"
    }
   },
   "source": [
    "# Study 15 minutes"
   ]
  },
  {
   "cell_type": "markdown",
   "metadata": {
    "pycharm": {
     "name": "#%% md\n"
    }
   },
   "source": [
    "### Last 180 days"
   ]
  },
  {
   "cell_type": "code",
   "execution_count": 11,
   "metadata": {
    "pycharm": {
     "name": "#%%\n"
    }
   },
   "outputs": [],
   "source": [
    "data_15m_180d = client.get_historical_klines(coin, Client.KLINE_INTERVAL_15MINUTE, \"180 day ago UTC\")"
   ]
  },
  {
   "cell_type": "code",
   "execution_count": 12,
   "metadata": {
    "pycharm": {
     "name": "#%%\n"
    }
   },
   "outputs": [
    {
     "data": {
      "text/plain": "   window_size  total_signals  total_bo_signals  total_db_signals  num_fails  num_succ  num_fails_bo  num_succ_bo  perct_fail_bo  price_fails_bo  price_succ_bo  perct_fail_bo_vs_bo  num_fails_bd  num_succ_bd  price_succ_bd  price_fails_bd  perct_fail_bd  perct_fail_bd_vs_bd  total_perct_fail  total_perct_succ  total_price_fail  total_price_succ  total_max_pain_radio  total_max_gain_radio  total_return_strategy  total_return_naive\n0            1            522               256               266        294       228           149          107       0.285441       -17350.10       18091.37             0.582031           145          121       18472.05       -16375.29       0.277778             0.545113          0.563218          0.436782         -33725.39          36563.42                -68.14               6317.83                2838.03           -25104.86\n1            2            522               256               266        285       237           138          118       0.264368       -24292.14       22343.22             0.539062           147          119       26378.76       -24931.64       0.281609             0.552632          0.545977          0.454023         -49223.78          48721.98              -2287.63               5367.79                -501.80           -25104.86\n2            3            522               256               266        281       241           136          120       0.260536       -27091.17       28357.68             0.531250           145          121       31393.70       -30407.60       0.277778             0.545113          0.538314          0.461686         -57498.77          59751.38              -1786.43               4771.16                2252.61           -25104.86\n3            4            522               256               266        279       243           138          118       0.264368       -33386.90       32085.75             0.539062           141          125       36624.99       -34106.53       0.270115             0.530075          0.534483          0.465517         -67493.43          68710.74              -4243.38               6772.16                1217.31           -25104.86",
      "text/html": "<div>\n<style scoped>\n    .dataframe tbody tr th:only-of-type {\n        vertical-align: middle;\n    }\n\n    .dataframe tbody tr th {\n        vertical-align: top;\n    }\n\n    .dataframe thead th {\n        text-align: right;\n    }\n</style>\n<table border=\"1\" class=\"dataframe\">\n  <thead>\n    <tr style=\"text-align: right;\">\n      <th></th>\n      <th>window_size</th>\n      <th>total_signals</th>\n      <th>total_bo_signals</th>\n      <th>total_db_signals</th>\n      <th>num_fails</th>\n      <th>num_succ</th>\n      <th>num_fails_bo</th>\n      <th>num_succ_bo</th>\n      <th>perct_fail_bo</th>\n      <th>price_fails_bo</th>\n      <th>price_succ_bo</th>\n      <th>perct_fail_bo_vs_bo</th>\n      <th>num_fails_bd</th>\n      <th>num_succ_bd</th>\n      <th>price_succ_bd</th>\n      <th>price_fails_bd</th>\n      <th>perct_fail_bd</th>\n      <th>perct_fail_bd_vs_bd</th>\n      <th>total_perct_fail</th>\n      <th>total_perct_succ</th>\n      <th>total_price_fail</th>\n      <th>total_price_succ</th>\n      <th>total_max_pain_radio</th>\n      <th>total_max_gain_radio</th>\n      <th>total_return_strategy</th>\n      <th>total_return_naive</th>\n    </tr>\n  </thead>\n  <tbody>\n    <tr>\n      <th>0</th>\n      <td>1</td>\n      <td>522</td>\n      <td>256</td>\n      <td>266</td>\n      <td>294</td>\n      <td>228</td>\n      <td>149</td>\n      <td>107</td>\n      <td>0.285441</td>\n      <td>-17350.10</td>\n      <td>18091.37</td>\n      <td>0.582031</td>\n      <td>145</td>\n      <td>121</td>\n      <td>18472.05</td>\n      <td>-16375.29</td>\n      <td>0.277778</td>\n      <td>0.545113</td>\n      <td>0.563218</td>\n      <td>0.436782</td>\n      <td>-33725.39</td>\n      <td>36563.42</td>\n      <td>-68.14</td>\n      <td>6317.83</td>\n      <td>2838.03</td>\n      <td>-25104.86</td>\n    </tr>\n    <tr>\n      <th>1</th>\n      <td>2</td>\n      <td>522</td>\n      <td>256</td>\n      <td>266</td>\n      <td>285</td>\n      <td>237</td>\n      <td>138</td>\n      <td>118</td>\n      <td>0.264368</td>\n      <td>-24292.14</td>\n      <td>22343.22</td>\n      <td>0.539062</td>\n      <td>147</td>\n      <td>119</td>\n      <td>26378.76</td>\n      <td>-24931.64</td>\n      <td>0.281609</td>\n      <td>0.552632</td>\n      <td>0.545977</td>\n      <td>0.454023</td>\n      <td>-49223.78</td>\n      <td>48721.98</td>\n      <td>-2287.63</td>\n      <td>5367.79</td>\n      <td>-501.80</td>\n      <td>-25104.86</td>\n    </tr>\n    <tr>\n      <th>2</th>\n      <td>3</td>\n      <td>522</td>\n      <td>256</td>\n      <td>266</td>\n      <td>281</td>\n      <td>241</td>\n      <td>136</td>\n      <td>120</td>\n      <td>0.260536</td>\n      <td>-27091.17</td>\n      <td>28357.68</td>\n      <td>0.531250</td>\n      <td>145</td>\n      <td>121</td>\n      <td>31393.70</td>\n      <td>-30407.60</td>\n      <td>0.277778</td>\n      <td>0.545113</td>\n      <td>0.538314</td>\n      <td>0.461686</td>\n      <td>-57498.77</td>\n      <td>59751.38</td>\n      <td>-1786.43</td>\n      <td>4771.16</td>\n      <td>2252.61</td>\n      <td>-25104.86</td>\n    </tr>\n    <tr>\n      <th>3</th>\n      <td>4</td>\n      <td>522</td>\n      <td>256</td>\n      <td>266</td>\n      <td>279</td>\n      <td>243</td>\n      <td>138</td>\n      <td>118</td>\n      <td>0.264368</td>\n      <td>-33386.90</td>\n      <td>32085.75</td>\n      <td>0.539062</td>\n      <td>141</td>\n      <td>125</td>\n      <td>36624.99</td>\n      <td>-34106.53</td>\n      <td>0.270115</td>\n      <td>0.530075</td>\n      <td>0.534483</td>\n      <td>0.465517</td>\n      <td>-67493.43</td>\n      <td>68710.74</td>\n      <td>-4243.38</td>\n      <td>6772.16</td>\n      <td>1217.31</td>\n      <td>-25104.86</td>\n    </tr>\n  </tbody>\n</table>\n</div>"
     },
     "execution_count": 12,
     "metadata": {},
     "output_type": "execute_result"
    }
   ],
   "source": [
    "data_n = HVRJBacktester2.prepare_data(data_15m_180d.copy())\n",
    "strateg = HVRJBacktester2(data_n.copy(), 'close', 1)\n",
    "strateg.optimize_parameters((1,5,1))\n",
    "strateg.describe_strategies(list(range(1,5)))"
   ]
  },
  {
   "cell_type": "markdown",
   "metadata": {
    "pycharm": {
     "name": "#%% md\n"
    }
   },
   "source": [
    "# Study 5 minutes interval"
   ]
  },
  {
   "cell_type": "markdown",
   "metadata": {
    "pycharm": {
     "name": "#%% md\n"
    }
   },
   "source": [
    "### Last 180 days"
   ]
  },
  {
   "cell_type": "code",
   "execution_count": 30,
   "metadata": {
    "pycharm": {
     "name": "#%%\n"
    }
   },
   "outputs": [],
   "source": [
    "data_5m_180d = client.get_historical_klines(coin, Client.KLINE_INTERVAL_5MINUTE, \"180 day ago UTC\")"
   ]
  },
  {
   "cell_type": "code",
   "execution_count": 31,
   "metadata": {
    "pycharm": {
     "name": "#%%\n"
    }
   },
   "outputs": [
    {
     "data": {
      "text/plain": "   window_size  total_signals  total_bo_signals  total_db_signals  num_fails  num_succ  num_fails_bo  num_succ_bo  perct_fail_bo  price_fails_bo  price_succ_bo  perct_fail_bo_vs_bo  num_fails_bd  num_succ_bd  price_succ_bd  price_fails_bd  perct_fail_bd  perct_fail_bd_vs_bd  total_perct_fail  total_perct_succ  total_price_fail  total_price_succ  total_max_pain_radio  total_max_gain_radio  total_return_strategy  total_return_naive\n0            1           1567               795               772        813       754           407          388       0.259732       -28263.80       34936.51             0.511950           406          366       32367.09       -32808.92       0.259094             0.525907          0.518826          0.481174         -61072.72          67303.60              -1720.89               6368.20                6230.88           -24896.61\n1            2           1567               795               772        794       773           398          397       0.253989       -39500.42       48923.04             0.500629           396          376       44108.30       -43589.55       0.252712             0.512953          0.506701          0.493299         -83089.97          93031.34                -26.98              13138.27                9941.37           -24896.61\n2            3           1567               795               772        824       743           412          383       0.262923       -49301.17       56613.59             0.518239           412          360       53400.92       -53952.95       0.262923             0.533679          0.525846          0.474154        -103254.12         110014.51              -1968.05               9589.96                6760.39           -24896.61\n3            4           1566               795               772        824       742           412          383       0.263091       -55759.07       64608.22             0.518239           412          359       58479.79       -62053.47       0.263091             0.534371          0.526181          0.473819        -117812.54         123088.01              -3461.66               7216.17                5275.47           -24896.61",
      "text/html": "<div>\n<style scoped>\n    .dataframe tbody tr th:only-of-type {\n        vertical-align: middle;\n    }\n\n    .dataframe tbody tr th {\n        vertical-align: top;\n    }\n\n    .dataframe thead th {\n        text-align: right;\n    }\n</style>\n<table border=\"1\" class=\"dataframe\">\n  <thead>\n    <tr style=\"text-align: right;\">\n      <th></th>\n      <th>window_size</th>\n      <th>total_signals</th>\n      <th>total_bo_signals</th>\n      <th>total_db_signals</th>\n      <th>num_fails</th>\n      <th>num_succ</th>\n      <th>num_fails_bo</th>\n      <th>num_succ_bo</th>\n      <th>perct_fail_bo</th>\n      <th>price_fails_bo</th>\n      <th>price_succ_bo</th>\n      <th>perct_fail_bo_vs_bo</th>\n      <th>num_fails_bd</th>\n      <th>num_succ_bd</th>\n      <th>price_succ_bd</th>\n      <th>price_fails_bd</th>\n      <th>perct_fail_bd</th>\n      <th>perct_fail_bd_vs_bd</th>\n      <th>total_perct_fail</th>\n      <th>total_perct_succ</th>\n      <th>total_price_fail</th>\n      <th>total_price_succ</th>\n      <th>total_max_pain_radio</th>\n      <th>total_max_gain_radio</th>\n      <th>total_return_strategy</th>\n      <th>total_return_naive</th>\n    </tr>\n  </thead>\n  <tbody>\n    <tr>\n      <th>0</th>\n      <td>1</td>\n      <td>1567</td>\n      <td>795</td>\n      <td>772</td>\n      <td>813</td>\n      <td>754</td>\n      <td>407</td>\n      <td>388</td>\n      <td>0.259732</td>\n      <td>-28263.80</td>\n      <td>34936.51</td>\n      <td>0.511950</td>\n      <td>406</td>\n      <td>366</td>\n      <td>32367.09</td>\n      <td>-32808.92</td>\n      <td>0.259094</td>\n      <td>0.525907</td>\n      <td>0.518826</td>\n      <td>0.481174</td>\n      <td>-61072.72</td>\n      <td>67303.60</td>\n      <td>-1720.89</td>\n      <td>6368.20</td>\n      <td>6230.88</td>\n      <td>-24896.61</td>\n    </tr>\n    <tr>\n      <th>1</th>\n      <td>2</td>\n      <td>1567</td>\n      <td>795</td>\n      <td>772</td>\n      <td>794</td>\n      <td>773</td>\n      <td>398</td>\n      <td>397</td>\n      <td>0.253989</td>\n      <td>-39500.42</td>\n      <td>48923.04</td>\n      <td>0.500629</td>\n      <td>396</td>\n      <td>376</td>\n      <td>44108.30</td>\n      <td>-43589.55</td>\n      <td>0.252712</td>\n      <td>0.512953</td>\n      <td>0.506701</td>\n      <td>0.493299</td>\n      <td>-83089.97</td>\n      <td>93031.34</td>\n      <td>-26.98</td>\n      <td>13138.27</td>\n      <td>9941.37</td>\n      <td>-24896.61</td>\n    </tr>\n    <tr>\n      <th>2</th>\n      <td>3</td>\n      <td>1567</td>\n      <td>795</td>\n      <td>772</td>\n      <td>824</td>\n      <td>743</td>\n      <td>412</td>\n      <td>383</td>\n      <td>0.262923</td>\n      <td>-49301.17</td>\n      <td>56613.59</td>\n      <td>0.518239</td>\n      <td>412</td>\n      <td>360</td>\n      <td>53400.92</td>\n      <td>-53952.95</td>\n      <td>0.262923</td>\n      <td>0.533679</td>\n      <td>0.525846</td>\n      <td>0.474154</td>\n      <td>-103254.12</td>\n      <td>110014.51</td>\n      <td>-1968.05</td>\n      <td>9589.96</td>\n      <td>6760.39</td>\n      <td>-24896.61</td>\n    </tr>\n    <tr>\n      <th>3</th>\n      <td>4</td>\n      <td>1566</td>\n      <td>795</td>\n      <td>772</td>\n      <td>824</td>\n      <td>742</td>\n      <td>412</td>\n      <td>383</td>\n      <td>0.263091</td>\n      <td>-55759.07</td>\n      <td>64608.22</td>\n      <td>0.518239</td>\n      <td>412</td>\n      <td>359</td>\n      <td>58479.79</td>\n      <td>-62053.47</td>\n      <td>0.263091</td>\n      <td>0.534371</td>\n      <td>0.526181</td>\n      <td>0.473819</td>\n      <td>-117812.54</td>\n      <td>123088.01</td>\n      <td>-3461.66</td>\n      <td>7216.17</td>\n      <td>5275.47</td>\n      <td>-24896.61</td>\n    </tr>\n  </tbody>\n</table>\n</div>"
     },
     "execution_count": 31,
     "metadata": {},
     "output_type": "execute_result"
    }
   ],
   "source": [
    "data_n = HVRJBacktester2.prepare_data(data_5m_180d.copy())\n",
    "strateg = HVRJBacktester2(data_n.copy(), 'close', 1)\n",
    "strateg.optimize_parameters((1,5,1))\n",
    "strateg.describe_strategies(list(range(1,5)))"
   ]
  },
  {
   "cell_type": "markdown",
   "metadata": {
    "pycharm": {
     "name": "#%% md\n"
    }
   },
   "source": [
    "### Last 360 days"
   ]
  },
  {
   "cell_type": "code",
   "execution_count": 32,
   "metadata": {
    "pycharm": {
     "name": "#%%\n"
    }
   },
   "outputs": [],
   "source": [
    "data_5m_360d = client.get_historical_klines(coin, Client.KLINE_INTERVAL_5MINUTE, \"360 day ago UTC\")"
   ]
  },
  {
   "cell_type": "code",
   "execution_count": 33,
   "metadata": {
    "pycharm": {
     "name": "#%%\n"
    }
   },
   "outputs": [
    {
     "data": {
      "text/plain": "   window_size  total_signals  total_bo_signals  total_db_signals  num_fails  num_succ  num_fails_bo  num_succ_bo  perct_fail_bo  price_fails_bo  price_succ_bo  perct_fail_bo_vs_bo  num_fails_bd  num_succ_bd  price_succ_bd  price_fails_bd  perct_fail_bd  perct_fail_bd_vs_bd  total_perct_fail  total_perct_succ  total_price_fail  total_price_succ  total_max_pain_radio  total_max_gain_radio  total_return_strategy  total_return_naive\n0            1           3123              1553              1570       1691      1432           847          706       0.271214       -70941.18       67700.90             0.545396           844          726       75700.64       -77140.06       0.270253             0.537580          0.541467          0.458533        -148081.24         143401.54             -12758.16                477.20               -4679.70           -10346.36\n1            2           3123              1553              1570       1623      1500           804          749       0.257445       -95024.91       95384.28             0.517708           819          751       98543.95      -103425.50       0.262248             0.521656          0.519693          0.480307        -198450.41         193928.23             -21034.36               1902.57               -4522.18           -10346.36\n2            3           3123              1553              1570       1635      1488           817          736       0.261607      -113544.08      115085.74             0.526079           818          752      117174.97      -122287.37       0.261928             0.521019          0.523535          0.476465        -235831.45         232260.71             -16352.76               2422.20               -3570.74           -10346.36\n3            4           3122              1553              1570       1645      1477           809          744       0.259129      -133269.04      129629.39             0.520927           836          733      129118.65      -142646.20       0.267777             0.532823          0.526906          0.473094        -275915.24         258748.04             -25904.33               1063.29              -17167.20           -10346.36",
      "text/html": "<div>\n<style scoped>\n    .dataframe tbody tr th:only-of-type {\n        vertical-align: middle;\n    }\n\n    .dataframe tbody tr th {\n        vertical-align: top;\n    }\n\n    .dataframe thead th {\n        text-align: right;\n    }\n</style>\n<table border=\"1\" class=\"dataframe\">\n  <thead>\n    <tr style=\"text-align: right;\">\n      <th></th>\n      <th>window_size</th>\n      <th>total_signals</th>\n      <th>total_bo_signals</th>\n      <th>total_db_signals</th>\n      <th>num_fails</th>\n      <th>num_succ</th>\n      <th>num_fails_bo</th>\n      <th>num_succ_bo</th>\n      <th>perct_fail_bo</th>\n      <th>price_fails_bo</th>\n      <th>price_succ_bo</th>\n      <th>perct_fail_bo_vs_bo</th>\n      <th>num_fails_bd</th>\n      <th>num_succ_bd</th>\n      <th>price_succ_bd</th>\n      <th>price_fails_bd</th>\n      <th>perct_fail_bd</th>\n      <th>perct_fail_bd_vs_bd</th>\n      <th>total_perct_fail</th>\n      <th>total_perct_succ</th>\n      <th>total_price_fail</th>\n      <th>total_price_succ</th>\n      <th>total_max_pain_radio</th>\n      <th>total_max_gain_radio</th>\n      <th>total_return_strategy</th>\n      <th>total_return_naive</th>\n    </tr>\n  </thead>\n  <tbody>\n    <tr>\n      <th>0</th>\n      <td>1</td>\n      <td>3123</td>\n      <td>1553</td>\n      <td>1570</td>\n      <td>1691</td>\n      <td>1432</td>\n      <td>847</td>\n      <td>706</td>\n      <td>0.271214</td>\n      <td>-70941.18</td>\n      <td>67700.90</td>\n      <td>0.545396</td>\n      <td>844</td>\n      <td>726</td>\n      <td>75700.64</td>\n      <td>-77140.06</td>\n      <td>0.270253</td>\n      <td>0.537580</td>\n      <td>0.541467</td>\n      <td>0.458533</td>\n      <td>-148081.24</td>\n      <td>143401.54</td>\n      <td>-12758.16</td>\n      <td>477.20</td>\n      <td>-4679.70</td>\n      <td>-10346.36</td>\n    </tr>\n    <tr>\n      <th>1</th>\n      <td>2</td>\n      <td>3123</td>\n      <td>1553</td>\n      <td>1570</td>\n      <td>1623</td>\n      <td>1500</td>\n      <td>804</td>\n      <td>749</td>\n      <td>0.257445</td>\n      <td>-95024.91</td>\n      <td>95384.28</td>\n      <td>0.517708</td>\n      <td>819</td>\n      <td>751</td>\n      <td>98543.95</td>\n      <td>-103425.50</td>\n      <td>0.262248</td>\n      <td>0.521656</td>\n      <td>0.519693</td>\n      <td>0.480307</td>\n      <td>-198450.41</td>\n      <td>193928.23</td>\n      <td>-21034.36</td>\n      <td>1902.57</td>\n      <td>-4522.18</td>\n      <td>-10346.36</td>\n    </tr>\n    <tr>\n      <th>2</th>\n      <td>3</td>\n      <td>3123</td>\n      <td>1553</td>\n      <td>1570</td>\n      <td>1635</td>\n      <td>1488</td>\n      <td>817</td>\n      <td>736</td>\n      <td>0.261607</td>\n      <td>-113544.08</td>\n      <td>115085.74</td>\n      <td>0.526079</td>\n      <td>818</td>\n      <td>752</td>\n      <td>117174.97</td>\n      <td>-122287.37</td>\n      <td>0.261928</td>\n      <td>0.521019</td>\n      <td>0.523535</td>\n      <td>0.476465</td>\n      <td>-235831.45</td>\n      <td>232260.71</td>\n      <td>-16352.76</td>\n      <td>2422.20</td>\n      <td>-3570.74</td>\n      <td>-10346.36</td>\n    </tr>\n    <tr>\n      <th>3</th>\n      <td>4</td>\n      <td>3122</td>\n      <td>1553</td>\n      <td>1570</td>\n      <td>1645</td>\n      <td>1477</td>\n      <td>809</td>\n      <td>744</td>\n      <td>0.259129</td>\n      <td>-133269.04</td>\n      <td>129629.39</td>\n      <td>0.520927</td>\n      <td>836</td>\n      <td>733</td>\n      <td>129118.65</td>\n      <td>-142646.20</td>\n      <td>0.267777</td>\n      <td>0.532823</td>\n      <td>0.526906</td>\n      <td>0.473094</td>\n      <td>-275915.24</td>\n      <td>258748.04</td>\n      <td>-25904.33</td>\n      <td>1063.29</td>\n      <td>-17167.20</td>\n      <td>-10346.36</td>\n    </tr>\n  </tbody>\n</table>\n</div>"
     },
     "execution_count": 33,
     "metadata": {},
     "output_type": "execute_result"
    }
   ],
   "source": [
    "data_n = HVRJBacktester2.prepare_data(data_5m_360d.copy())\n",
    "strateg = HVRJBacktester2(data_n.copy(), 'close', 1)\n",
    "strateg.optimize_parameters((1,5,1))\n",
    "strateg.describe_strategies(list(range(1,5)))"
   ]
  },
  {
   "cell_type": "markdown",
   "metadata": {
    "pycharm": {
     "name": "#%% md\n"
    }
   },
   "source": [
    "### Study about the max deltas between a candle and the previous one in the last 2 years"
   ]
  },
  {
   "cell_type": "code",
   "execution_count": 34,
   "metadata": {
    "pycharm": {
     "name": "#%%\n"
    }
   },
   "outputs": [],
   "source": [
    "data_1h_2y = client.get_historical_klines(coin, Client.KLINE_INTERVAL_1HOUR, \"720 day ago UTC\")\n",
    "data_1h_2y = HVRJBacktester2.prepare_data(data_1h_2y)"
   ]
  },
  {
   "cell_type": "code",
   "execution_count": 35,
   "metadata": {
    "pycharm": {
     "name": "#%%\n"
    }
   },
   "outputs": [
    {
     "data": {
      "text/plain": "                        open    high     low    close      volume  ntrades  highVB  lowVB  volMA  volNext  cloNext  overMidBar  underMidBar  breakout  breakdown\ntime                                                                                                                                                            \n2020-04-28 13:00:00  7743.46  7747.9  7725.0  7728.62  1667.45238    20018     0.0    0.0    0.0      0.0      0.0       False         True         0          0",
      "text/html": "<div>\n<style scoped>\n    .dataframe tbody tr th:only-of-type {\n        vertical-align: middle;\n    }\n\n    .dataframe tbody tr th {\n        vertical-align: top;\n    }\n\n    .dataframe thead th {\n        text-align: right;\n    }\n</style>\n<table border=\"1\" class=\"dataframe\">\n  <thead>\n    <tr style=\"text-align: right;\">\n      <th></th>\n      <th>open</th>\n      <th>high</th>\n      <th>low</th>\n      <th>close</th>\n      <th>volume</th>\n      <th>ntrades</th>\n      <th>highVB</th>\n      <th>lowVB</th>\n      <th>volMA</th>\n      <th>volNext</th>\n      <th>cloNext</th>\n      <th>overMidBar</th>\n      <th>underMidBar</th>\n      <th>breakout</th>\n      <th>breakdown</th>\n    </tr>\n    <tr>\n      <th>time</th>\n      <th></th>\n      <th></th>\n      <th></th>\n      <th></th>\n      <th></th>\n      <th></th>\n      <th></th>\n      <th></th>\n      <th></th>\n      <th></th>\n      <th></th>\n      <th></th>\n      <th></th>\n      <th></th>\n      <th></th>\n    </tr>\n  </thead>\n  <tbody>\n    <tr>\n      <th>2020-04-28 13:00:00</th>\n      <td>7743.46</td>\n      <td>7747.9</td>\n      <td>7725.0</td>\n      <td>7728.62</td>\n      <td>1667.45238</td>\n      <td>20018</td>\n      <td>0.0</td>\n      <td>0.0</td>\n      <td>0.0</td>\n      <td>0.0</td>\n      <td>0.0</td>\n      <td>False</td>\n      <td>True</td>\n      <td>0</td>\n      <td>0</td>\n    </tr>\n  </tbody>\n</table>\n</div>"
     },
     "execution_count": 35,
     "metadata": {},
     "output_type": "execute_result"
    }
   ],
   "source": [
    "data_1h_2y.head(1)"
   ]
  },
  {
   "cell_type": "code",
   "execution_count": 37,
   "metadata": {
    "pycharm": {
     "name": "#%%\n"
    }
   },
   "outputs": [],
   "source": [
    "temp = ToolboxPriceAnalytics.study_max_delta(data_1h_2y.copy(), 5)"
   ]
  },
  {
   "cell_type": "code",
   "execution_count": 38,
   "metadata": {
    "pycharm": {
     "name": "#%%\n"
    }
   },
   "outputs": [],
   "source": [
    "x=temp.loc[:,temp.columns.str.startswith('close_delta_next_cdl_pert_')]"
   ]
  },
  {
   "cell_type": "code",
   "execution_count": 39,
   "metadata": {
    "pycharm": {
     "name": "#%%\n"
    }
   },
   "outputs": [
    {
     "data": {
      "text/plain": "close_delta_next_cdl_pert_1    12.315896\nclose_delta_next_cdl_pert_2    14.289841\nclose_delta_next_cdl_pert_3    13.524982\nclose_delta_next_cdl_pert_4    14.749019\nclose_delta_next_cdl_pert_5    17.274095\ndtype: float64"
     },
     "execution_count": 39,
     "metadata": {},
     "output_type": "execute_result"
    }
   ],
   "source": [
    "x[:-5].max()"
   ]
  },
  {
   "cell_type": "markdown",
   "metadata": {
    "pycharm": {
     "name": "#%% md\n"
    }
   },
   "source": [
    "How many deltas there are with bigger than 5% of difference in the last 720 days?"
   ]
  },
  {
   "cell_type": "code",
   "execution_count": 40,
   "metadata": {
    "pycharm": {
     "name": "#%%\n"
    }
   },
   "outputs": [
    {
     "data": {
      "text/plain": "                     close_delta_next_cdl_pert_1  close_delta_next_cdl_pert_2  close_delta_next_cdl_pert_3  close_delta_next_cdl_pert_4  close_delta_next_cdl_pert_5\ntime                                                                                                                                                                \n2020-04-30 10:00:00                    -5.264665                    -2.401807                    -3.010104                    -3.887439                    -2.859347\n2020-05-10 01:00:00                    -8.760824                    -8.673397                    -9.202990                    -9.608780                   -10.276328\n2020-06-02 15:00:00                    -5.656678                    -6.765978                    -6.672634                    -6.156483                    -6.330470\n2020-08-02 05:00:00                    -6.918000                    -6.232167                    -5.888917                    -5.635167                    -5.985000\n2021-01-02 20:00:00                    -7.145565                    -4.034886                    -2.669133                    -2.570215                    -1.753888\n2021-01-11 06:00:00                    -5.821847                    -1.516671                     1.504868                     2.467431                     1.326095\n2021-01-11 15:00:00                    -5.162659                    -4.570481                    -1.379166                    -2.213332                    -3.136720\n2021-01-29 08:00:00                    12.315896                    14.289841                    13.484265                    14.749019                    17.274095\n2021-02-08 12:00:00                     9.032754                     8.812198                    10.490428                    10.890169                     9.504990\n2021-02-23 08:00:00                    -6.194862                    -3.152437                    -4.218989                    -6.589481                    -1.954298\n2021-02-23 20:00:00                     5.033719                     5.303539                     6.736573                     7.398458                     6.444171\n2021-04-18 04:00:00                    -6.444692                    -6.759669                    -5.501358                    -5.230153                    -4.462044\n2021-05-13 00:00:00                    -6.254808                    -6.187434                    -4.571482                    -5.075195                    -4.685813\n2021-05-19 13:00:00                    -8.954470                    -7.330594                    -3.045685                    -3.569716                     2.275659\n2021-05-19 17:00:00                     6.061762                     5.498852                     1.721665                     5.424679                     2.408697\n2021-05-20 00:00:00                    -6.139808                    -8.372544                    -5.414766                    -2.657473                    -1.916365\n2021-05-20 17:00:00                    -5.119316                    -3.976359                    -3.912448                    -3.178249                    -3.475525\n2021-05-21 15:00:00                    -7.965454                   -10.501695                    -9.920357                    -9.170771                    -9.613682\n2021-09-07 15:00:00                    -6.357789                    -7.777086                    -6.257178                    -7.875188                    -7.251395\n2021-12-04 05:00:00                    -5.409398                    -5.519314                    -5.996962                    -5.483915                    -5.533839",
      "text/html": "<div>\n<style scoped>\n    .dataframe tbody tr th:only-of-type {\n        vertical-align: middle;\n    }\n\n    .dataframe tbody tr th {\n        vertical-align: top;\n    }\n\n    .dataframe thead th {\n        text-align: right;\n    }\n</style>\n<table border=\"1\" class=\"dataframe\">\n  <thead>\n    <tr style=\"text-align: right;\">\n      <th></th>\n      <th>close_delta_next_cdl_pert_1</th>\n      <th>close_delta_next_cdl_pert_2</th>\n      <th>close_delta_next_cdl_pert_3</th>\n      <th>close_delta_next_cdl_pert_4</th>\n      <th>close_delta_next_cdl_pert_5</th>\n    </tr>\n    <tr>\n      <th>time</th>\n      <th></th>\n      <th></th>\n      <th></th>\n      <th></th>\n      <th></th>\n    </tr>\n  </thead>\n  <tbody>\n    <tr>\n      <th>2020-04-30 10:00:00</th>\n      <td>-5.264665</td>\n      <td>-2.401807</td>\n      <td>-3.010104</td>\n      <td>-3.887439</td>\n      <td>-2.859347</td>\n    </tr>\n    <tr>\n      <th>2020-05-10 01:00:00</th>\n      <td>-8.760824</td>\n      <td>-8.673397</td>\n      <td>-9.202990</td>\n      <td>-9.608780</td>\n      <td>-10.276328</td>\n    </tr>\n    <tr>\n      <th>2020-06-02 15:00:00</th>\n      <td>-5.656678</td>\n      <td>-6.765978</td>\n      <td>-6.672634</td>\n      <td>-6.156483</td>\n      <td>-6.330470</td>\n    </tr>\n    <tr>\n      <th>2020-08-02 05:00:00</th>\n      <td>-6.918000</td>\n      <td>-6.232167</td>\n      <td>-5.888917</td>\n      <td>-5.635167</td>\n      <td>-5.985000</td>\n    </tr>\n    <tr>\n      <th>2021-01-02 20:00:00</th>\n      <td>-7.145565</td>\n      <td>-4.034886</td>\n      <td>-2.669133</td>\n      <td>-2.570215</td>\n      <td>-1.753888</td>\n    </tr>\n    <tr>\n      <th>2021-01-11 06:00:00</th>\n      <td>-5.821847</td>\n      <td>-1.516671</td>\n      <td>1.504868</td>\n      <td>2.467431</td>\n      <td>1.326095</td>\n    </tr>\n    <tr>\n      <th>2021-01-11 15:00:00</th>\n      <td>-5.162659</td>\n      <td>-4.570481</td>\n      <td>-1.379166</td>\n      <td>-2.213332</td>\n      <td>-3.136720</td>\n    </tr>\n    <tr>\n      <th>2021-01-29 08:00:00</th>\n      <td>12.315896</td>\n      <td>14.289841</td>\n      <td>13.484265</td>\n      <td>14.749019</td>\n      <td>17.274095</td>\n    </tr>\n    <tr>\n      <th>2021-02-08 12:00:00</th>\n      <td>9.032754</td>\n      <td>8.812198</td>\n      <td>10.490428</td>\n      <td>10.890169</td>\n      <td>9.504990</td>\n    </tr>\n    <tr>\n      <th>2021-02-23 08:00:00</th>\n      <td>-6.194862</td>\n      <td>-3.152437</td>\n      <td>-4.218989</td>\n      <td>-6.589481</td>\n      <td>-1.954298</td>\n    </tr>\n    <tr>\n      <th>2021-02-23 20:00:00</th>\n      <td>5.033719</td>\n      <td>5.303539</td>\n      <td>6.736573</td>\n      <td>7.398458</td>\n      <td>6.444171</td>\n    </tr>\n    <tr>\n      <th>2021-04-18 04:00:00</th>\n      <td>-6.444692</td>\n      <td>-6.759669</td>\n      <td>-5.501358</td>\n      <td>-5.230153</td>\n      <td>-4.462044</td>\n    </tr>\n    <tr>\n      <th>2021-05-13 00:00:00</th>\n      <td>-6.254808</td>\n      <td>-6.187434</td>\n      <td>-4.571482</td>\n      <td>-5.075195</td>\n      <td>-4.685813</td>\n    </tr>\n    <tr>\n      <th>2021-05-19 13:00:00</th>\n      <td>-8.954470</td>\n      <td>-7.330594</td>\n      <td>-3.045685</td>\n      <td>-3.569716</td>\n      <td>2.275659</td>\n    </tr>\n    <tr>\n      <th>2021-05-19 17:00:00</th>\n      <td>6.061762</td>\n      <td>5.498852</td>\n      <td>1.721665</td>\n      <td>5.424679</td>\n      <td>2.408697</td>\n    </tr>\n    <tr>\n      <th>2021-05-20 00:00:00</th>\n      <td>-6.139808</td>\n      <td>-8.372544</td>\n      <td>-5.414766</td>\n      <td>-2.657473</td>\n      <td>-1.916365</td>\n    </tr>\n    <tr>\n      <th>2021-05-20 17:00:00</th>\n      <td>-5.119316</td>\n      <td>-3.976359</td>\n      <td>-3.912448</td>\n      <td>-3.178249</td>\n      <td>-3.475525</td>\n    </tr>\n    <tr>\n      <th>2021-05-21 15:00:00</th>\n      <td>-7.965454</td>\n      <td>-10.501695</td>\n      <td>-9.920357</td>\n      <td>-9.170771</td>\n      <td>-9.613682</td>\n    </tr>\n    <tr>\n      <th>2021-09-07 15:00:00</th>\n      <td>-6.357789</td>\n      <td>-7.777086</td>\n      <td>-6.257178</td>\n      <td>-7.875188</td>\n      <td>-7.251395</td>\n    </tr>\n    <tr>\n      <th>2021-12-04 05:00:00</th>\n      <td>-5.409398</td>\n      <td>-5.519314</td>\n      <td>-5.996962</td>\n      <td>-5.483915</td>\n      <td>-5.533839</td>\n    </tr>\n  </tbody>\n</table>\n</div>"
     },
     "execution_count": 40,
     "metadata": {},
     "output_type": "execute_result"
    }
   ],
   "source": [
    "x[abs(x['close_delta_next_cdl_pert_1'])>5][:-1]"
   ]
  },
  {
   "cell_type": "markdown",
   "metadata": {
    "pycharm": {
     "name": "#%% md\n"
    }
   },
   "source": [
    "Same but checking those where the delta was negative (red candle) and change is > 10%"
   ]
  },
  {
   "cell_type": "code",
   "execution_count": 42,
   "metadata": {
    "pycharm": {
     "name": "#%%\n"
    }
   },
   "outputs": [
    {
     "data": {
      "text/plain": "                     close_delta_next_cdl_pert_1  close_delta_next_cdl_pert_2  close_delta_next_cdl_pert_3  close_delta_next_cdl_pert_4  close_delta_next_cdl_pert_5\ntime                                                                                                                                                                \n2020-04-30 10:00:00                    -5.264665                    -2.401807                    -3.010104                    -3.887439                    -2.859347\n2020-05-10 01:00:00                    -8.760824                    -8.673397                    -9.202990                    -9.608780                   -10.276328\n2020-06-02 15:00:00                    -5.656678                    -6.765978                    -6.672634                    -6.156483                    -6.330470\n2020-08-02 05:00:00                    -6.918000                    -6.232167                    -5.888917                    -5.635167                    -5.985000\n2021-01-02 20:00:00                    -7.145565                    -4.034886                    -2.669133                    -2.570215                    -1.753888\n2021-01-11 06:00:00                    -5.821847                    -1.516671                     1.504868                     2.467431                     1.326095\n2021-01-11 15:00:00                    -5.162659                    -4.570481                    -1.379166                    -2.213332                    -3.136720\n2021-02-23 08:00:00                    -6.194862                    -3.152437                    -4.218989                    -6.589481                    -1.954298\n2021-04-18 04:00:00                    -6.444692                    -6.759669                    -5.501358                    -5.230153                    -4.462044\n2021-05-13 00:00:00                    -6.254808                    -6.187434                    -4.571482                    -5.075195                    -4.685813\n2021-05-19 13:00:00                    -8.954470                    -7.330594                    -3.045685                    -3.569716                     2.275659\n2021-05-20 00:00:00                    -6.139808                    -8.372544                    -5.414766                    -2.657473                    -1.916365\n2021-05-20 17:00:00                    -5.119316                    -3.976359                    -3.912448                    -3.178249                    -3.475525\n2021-05-21 15:00:00                    -7.965454                   -10.501695                    -9.920357                    -9.170771                    -9.613682\n2021-09-07 15:00:00                    -6.357789                    -7.777086                    -6.257178                    -7.875188                    -7.251395\n2021-12-04 05:00:00                    -5.409398                    -5.519314                    -5.996962                    -5.483915                    -5.533839",
      "text/html": "<div>\n<style scoped>\n    .dataframe tbody tr th:only-of-type {\n        vertical-align: middle;\n    }\n\n    .dataframe tbody tr th {\n        vertical-align: top;\n    }\n\n    .dataframe thead th {\n        text-align: right;\n    }\n</style>\n<table border=\"1\" class=\"dataframe\">\n  <thead>\n    <tr style=\"text-align: right;\">\n      <th></th>\n      <th>close_delta_next_cdl_pert_1</th>\n      <th>close_delta_next_cdl_pert_2</th>\n      <th>close_delta_next_cdl_pert_3</th>\n      <th>close_delta_next_cdl_pert_4</th>\n      <th>close_delta_next_cdl_pert_5</th>\n    </tr>\n    <tr>\n      <th>time</th>\n      <th></th>\n      <th></th>\n      <th></th>\n      <th></th>\n      <th></th>\n    </tr>\n  </thead>\n  <tbody>\n    <tr>\n      <th>2020-04-30 10:00:00</th>\n      <td>-5.264665</td>\n      <td>-2.401807</td>\n      <td>-3.010104</td>\n      <td>-3.887439</td>\n      <td>-2.859347</td>\n    </tr>\n    <tr>\n      <th>2020-05-10 01:00:00</th>\n      <td>-8.760824</td>\n      <td>-8.673397</td>\n      <td>-9.202990</td>\n      <td>-9.608780</td>\n      <td>-10.276328</td>\n    </tr>\n    <tr>\n      <th>2020-06-02 15:00:00</th>\n      <td>-5.656678</td>\n      <td>-6.765978</td>\n      <td>-6.672634</td>\n      <td>-6.156483</td>\n      <td>-6.330470</td>\n    </tr>\n    <tr>\n      <th>2020-08-02 05:00:00</th>\n      <td>-6.918000</td>\n      <td>-6.232167</td>\n      <td>-5.888917</td>\n      <td>-5.635167</td>\n      <td>-5.985000</td>\n    </tr>\n    <tr>\n      <th>2021-01-02 20:00:00</th>\n      <td>-7.145565</td>\n      <td>-4.034886</td>\n      <td>-2.669133</td>\n      <td>-2.570215</td>\n      <td>-1.753888</td>\n    </tr>\n    <tr>\n      <th>2021-01-11 06:00:00</th>\n      <td>-5.821847</td>\n      <td>-1.516671</td>\n      <td>1.504868</td>\n      <td>2.467431</td>\n      <td>1.326095</td>\n    </tr>\n    <tr>\n      <th>2021-01-11 15:00:00</th>\n      <td>-5.162659</td>\n      <td>-4.570481</td>\n      <td>-1.379166</td>\n      <td>-2.213332</td>\n      <td>-3.136720</td>\n    </tr>\n    <tr>\n      <th>2021-02-23 08:00:00</th>\n      <td>-6.194862</td>\n      <td>-3.152437</td>\n      <td>-4.218989</td>\n      <td>-6.589481</td>\n      <td>-1.954298</td>\n    </tr>\n    <tr>\n      <th>2021-04-18 04:00:00</th>\n      <td>-6.444692</td>\n      <td>-6.759669</td>\n      <td>-5.501358</td>\n      <td>-5.230153</td>\n      <td>-4.462044</td>\n    </tr>\n    <tr>\n      <th>2021-05-13 00:00:00</th>\n      <td>-6.254808</td>\n      <td>-6.187434</td>\n      <td>-4.571482</td>\n      <td>-5.075195</td>\n      <td>-4.685813</td>\n    </tr>\n    <tr>\n      <th>2021-05-19 13:00:00</th>\n      <td>-8.954470</td>\n      <td>-7.330594</td>\n      <td>-3.045685</td>\n      <td>-3.569716</td>\n      <td>2.275659</td>\n    </tr>\n    <tr>\n      <th>2021-05-20 00:00:00</th>\n      <td>-6.139808</td>\n      <td>-8.372544</td>\n      <td>-5.414766</td>\n      <td>-2.657473</td>\n      <td>-1.916365</td>\n    </tr>\n    <tr>\n      <th>2021-05-20 17:00:00</th>\n      <td>-5.119316</td>\n      <td>-3.976359</td>\n      <td>-3.912448</td>\n      <td>-3.178249</td>\n      <td>-3.475525</td>\n    </tr>\n    <tr>\n      <th>2021-05-21 15:00:00</th>\n      <td>-7.965454</td>\n      <td>-10.501695</td>\n      <td>-9.920357</td>\n      <td>-9.170771</td>\n      <td>-9.613682</td>\n    </tr>\n    <tr>\n      <th>2021-09-07 15:00:00</th>\n      <td>-6.357789</td>\n      <td>-7.777086</td>\n      <td>-6.257178</td>\n      <td>-7.875188</td>\n      <td>-7.251395</td>\n    </tr>\n    <tr>\n      <th>2021-12-04 05:00:00</th>\n      <td>-5.409398</td>\n      <td>-5.519314</td>\n      <td>-5.996962</td>\n      <td>-5.483915</td>\n      <td>-5.533839</td>\n    </tr>\n  </tbody>\n</table>\n</div>"
     },
     "execution_count": 42,
     "metadata": {},
     "output_type": "execute_result"
    }
   ],
   "source": [
    "x[x['close_delta_next_cdl_pert_1']<-5][:-1]"
   ]
  },
  {
   "cell_type": "code",
   "execution_count": null,
   "metadata": {
    "pycharm": {
     "name": "#%%\n"
    }
   },
   "outputs": [],
   "source": []
  }
 ],
 "metadata": {
  "interpreter": {
   "hash": "2f7110f6369649f0dfcd2febf2ecbcc3d082b262e5a1db4e31cc580d4cba0550"
  },
  "kernelspec": {
   "display_name": "Python 3.9.9 64-bit ('.venv': venv)",
   "language": "python",
   "name": "python3"
  },
  "language_info": {
   "codemirror_mode": {
    "name": "ipython",
    "version": 3
   },
   "file_extension": ".py",
   "mimetype": "text/x-python",
   "name": "python",
   "nbconvert_exporter": "python",
   "pygments_lexer": "ipython3",
   "version": "3.9.10"
  },
  "orig_nbformat": 4
 },
 "nbformat": 4,
 "nbformat_minor": 2
}