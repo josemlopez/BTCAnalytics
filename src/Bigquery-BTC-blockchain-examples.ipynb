{
 "metadata": {
  "kernelspec": {
   "language": "python",
   "display_name": "Python 3",
   "name": "python3"
  },
  "language_info": {
   "name": "python",
   "version": "3.7.12",
   "mimetype": "text/x-python",
   "codemirror_mode": {
    "name": "ipython",
    "version": 3
   },
   "pygments_lexer": "ipython3",
   "nbconvert_exporter": "python",
   "file_extension": ".py"
  }
 },
 "nbformat_minor": 4,
 "nbformat": 4,
 "cells": [
  {
   "cell_type": "markdown",
   "source": [
    "### Step 1: Import Essential Libraries"
   ],
   "metadata": {
    "pycharm": {
     "name": "#%% md\n"
    }
   }
  },
  {
   "cell_type": "code",
   "source": [
    "from google.cloud import bigquery\n",
    "from scipy.stats.mstats import zscore\n",
    "from sklearn.preprocessing import MinMaxScaler, QuantileTransformer\n",
    "from sklearn.cluster import KMeans\n",
    "from sklearn.manifold import TSNE\n",
    "from mpl_toolkits.mplot3d import Axes3D\n",
    "import matplotlib.pyplot as plt\n",
    "plt.style.use('fivethirtyeight')\n",
    "import matplotlib as mpl\n",
    "from pathlib import Path\n",
    "from sklearn.decomposition import PCA\n",
    "from sklearn.preprocessing import StandardScaler\n",
    "from sklearn.ensemble import IsolationForest \n",
    "import seaborn as sns\n",
    "import datetime as dt\n",
    "from datetime import datetime,tzinfo\n",
    "import scipy, json, csv, time, pytz\n",
    "from pytz import timezone\n",
    "import numpy as np\n",
    "import pandas as pd\n",
    "seed = 135\n",
    "%config InlineBackend.figure_format = 'retina'\n",
    "%matplotlib inline\n",
    "import os\n",
    "os.listdir('../input/')"
   ],
   "metadata": {
    "execution": {
     "iopub.status.busy": "2022-04-24T17:05:33.963482Z",
     "iopub.execute_input": "2022-04-24T17:05:33.964384Z",
     "iopub.status.idle": "2022-04-24T17:05:35.640905Z",
     "shell.execute_reply.started": "2022-04-24T17:05:33.964229Z",
     "shell.execute_reply": "2022-04-24T17:05:35.639699Z"
    },
    "trusted": true,
    "pycharm": {
     "name": "#%%\n"
    }
   },
   "execution_count": 1,
   "outputs": []
  },
  {
   "cell_type": "markdown",
   "source": [
    "### First query for testing"
   ],
   "metadata": {
    "pycharm": {
     "name": "#%% md\n"
    }
   }
  },
  {
   "cell_type": "markdown",
   "source": [
    "> **Google BigQuery Bitcoin Blockchain Dataset** consist of two projects: Transactions and Blocks containing features like block_id, transaction_id, timestamp, input, output, etc., which updates every 10 minutes. [https://bigquery.cloud.google.com/dataset/bigquery-public-data:bitcoin_blockchain](http://)"
   ],
   "metadata": {
    "pycharm": {
     "name": "#%% md\n"
    }
   }
  },
  {
   "cell_type": "code",
   "source": [
    "#Connecting to Google datastore (use path to ur private key)\n",
    "os.environ['GOOGLE_APPLICATION_CREDENTIALS']=\"../input/gcp-bitcoin-project/Bitcoin Project-615d07137267.json\"\n",
    "client = bigquery.Client()"
   ],
   "metadata": {
    "execution": {
     "iopub.status.busy": "2022-04-24T17:05:35.642757Z",
     "iopub.execute_input": "2022-04-24T17:05:35.643094Z",
     "iopub.status.idle": "2022-04-24T17:05:35.650258Z",
     "shell.execute_reply.started": "2022-04-24T17:05:35.643058Z",
     "shell.execute_reply": "2022-04-24T17:05:35.649237Z"
    },
    "trusted": true,
    "pycharm": {
     "name": "#%%\n"
    }
   },
   "execution_count": 2,
   "outputs": []
  },
  {
   "cell_type": "markdown",
   "source": [
    "Let's see if we can query the whole btc chain for calculating somethign simple like the acceleration in the number of transactions along the whole history"
   ],
   "metadata": {
    "pycharm": {
     "name": "#%% md\n"
    }
   }
  },
  {
   "cell_type": "markdown",
   "source": [
    "![Crypto bitcoin schema](https://miro.medium.com/max/1400/1*Sl3uCSP1qTxB4iP-W5KL-w.png)"
   ],
   "metadata": {
    "pycharm": {
     "name": "#%% md\n"
    }
   }
  },
  {
   "cell_type": "code",
   "source": [
    "def query_to_df(query: str)->pd.DataFrame:\n",
    "    query_job = client.query(query)\n",
    "    # Waits for the query to finish\n",
    "    iterator = query_job.result(timeout=30)\n",
    "    rows = list(iterator)\n",
    "    df = pd.DataFrame(data=[list(x.values()) for x in rows], columns=list(rows[0].keys()))\n",
    "    return df"
   ],
   "metadata": {
    "execution": {
     "iopub.status.busy": "2022-04-24T17:05:35.652389Z",
     "iopub.execute_input": "2022-04-24T17:05:35.653157Z",
     "iopub.status.idle": "2022-04-24T17:05:35.665699Z",
     "shell.execute_reply.started": "2022-04-24T17:05:35.653108Z",
     "shell.execute_reply": "2022-04-24T17:05:35.664971Z"
    },
    "trusted": true,
    "pycharm": {
     "name": "#%%\n"
    }
   },
   "execution_count": 3,
   "outputs": []
  },
  {
   "cell_type": "markdown",
   "source": [
    "# Let's see what it is in each table"
   ],
   "metadata": {
    "pycharm": {
     "name": "#%% md\n"
    }
   }
  },
  {
   "cell_type": "markdown",
   "source": [
    "#### Table Transactions"
   ],
   "metadata": {
    "pycharm": {
     "name": "#%% md\n"
    }
   }
  },
  {
   "cell_type": "code",
   "source": [
    "query_x = \"\"\"\n",
    "SELECT *\n",
    "FROM `bigquery-public-data.crypto_bitcoin.transactions`\n",
    "LIMIT 2\n",
    "\"\"\"\n",
    "df_x = query_to_df(query_x)\n",
    "df_x.head(10)"
   ],
   "metadata": {
    "execution": {
     "iopub.status.busy": "2022-04-24T17:09:59.530607Z",
     "iopub.execute_input": "2022-04-24T17:09:59.531153Z",
     "iopub.status.idle": "2022-04-24T17:11:59.829598Z",
     "shell.execute_reply.started": "2022-04-24T17:09:59.531104Z",
     "shell.execute_reply": "2022-04-24T17:11:59.827595Z"
    },
    "pycharm": {
     "name": "#%%\n"
    }
   },
   "execution_count": null,
   "outputs": []
  },
  {
   "cell_type": "markdown",
   "source": [
    "#### Table Blocks"
   ],
   "metadata": {
    "pycharm": {
     "name": "#%% md\n"
    }
   }
  },
  {
   "cell_type": "code",
   "source": [
    "query_x = \"\"\"\n",
    "SELECT *\n",
    "FROM `bigquery-public-data.crypto_bitcoin.blocks`\n",
    "LIMIT 2\n",
    "\"\"\"\n",
    "df_x = query_to_df(query_x)\n",
    "df_x.head(10)"
   ],
   "metadata": {
    "execution": {
     "iopub.status.busy": "2022-04-24T17:11:59.830797Z",
     "iopub.status.idle": "2022-04-24T17:11:59.831321Z",
     "shell.execute_reply.started": "2022-04-24T17:11:59.831057Z",
     "shell.execute_reply": "2022-04-24T17:11:59.831085Z"
    },
    "trusted": true,
    "pycharm": {
     "name": "#%%\n"
    }
   },
   "execution_count": null,
   "outputs": []
  },
  {
   "cell_type": "markdown",
   "source": [
    "#### Table Outputs"
   ],
   "metadata": {
    "pycharm": {
     "name": "#%% md\n"
    }
   }
  },
  {
   "cell_type": "code",
   "source": [
    "query_x = \"\"\"\n",
    "SELECT *\n",
    "FROM `bigquery-public-data.crypto_bitcoin.outputs`\n",
    "LIMIT 2\n",
    "\"\"\"\n",
    "df_x = query_to_df(query_x)\n",
    "df_x.head(10)"
   ],
   "metadata": {
    "execution": {
     "iopub.status.busy": "2022-04-24T17:11:59.833321Z",
     "iopub.status.idle": "2022-04-24T17:11:59.834323Z",
     "shell.execute_reply.started": "2022-04-24T17:11:59.834012Z",
     "shell.execute_reply": "2022-04-24T17:11:59.834046Z"
    },
    "trusted": true,
    "pycharm": {
     "name": "#%%\n"
    }
   },
   "execution_count": null,
   "outputs": []
  },
  {
   "cell_type": "markdown",
   "source": [
    "#### Table Inputs"
   ],
   "metadata": {
    "pycharm": {
     "name": "#%% md\n"
    }
   }
  },
  {
   "cell_type": "code",
   "source": [
    "query_x = \"\"\"\n",
    "SELECT *\n",
    "FROM `bigquery-public-data.crypto_bitcoin.inputs`\n",
    "LIMIT 2\n",
    "\"\"\"\n",
    "df_x = query_to_df(query_x)\n",
    "df_x.head(10)"
   ],
   "metadata": {
    "execution": {
     "iopub.status.busy": "2022-04-24T17:11:59.835423Z",
     "iopub.status.idle": "2022-04-24T17:11:59.835924Z",
     "shell.execute_reply.started": "2022-04-24T17:11:59.835648Z",
     "shell.execute_reply": "2022-04-24T17:11:59.835673Z"
    },
    "trusted": true,
    "pycharm": {
     "name": "#%%\n"
    }
   },
   "execution_count": null,
   "outputs": []
  },
  {
   "cell_type": "markdown",
   "source": [
    "# Some Examples"
   ],
   "metadata": {
    "execution": {
     "iopub.status.busy": "2022-04-24T17:09:41.225522Z",
     "iopub.execute_input": "2022-04-24T17:09:41.225815Z",
     "iopub.status.idle": "2022-04-24T17:09:41.229784Z",
     "shell.execute_reply.started": "2022-04-24T17:09:41.225785Z",
     "shell.execute_reply": "2022-04-24T17:09:41.228928Z"
    },
    "pycharm": {
     "name": "#%% md\n"
    }
   }
  },
  {
   "cell_type": "code",
   "source": [
    "initial_date  = '2009-01-01'\n",
    "final_date    = '2022-02-22'\n",
    "# The query to get date, number of transactions from Google BigQuery bitcoin blockchain dataset \n",
    "# Select records from the last three years and group them with respect to date\n",
    "query_1 = f\"\"\"\n",
    "SELECT \n",
    "   DATE(timestamp) AS date,\n",
    "   SUM(transaction_count) as num_transactions\n",
    "     \n",
    "FROM `bigquery-public-data.crypto_bitcoin.blocks`\n",
    "GROUP BY date\n",
    "HAVING date >= '{initial_date}'  AND date <= '{final_date}'\n",
    "ORDER BY date\n",
    "\"\"\"\n",
    "\n",
    "query_job_1 = client.query(query_1)\n",
    "# Waits for the query to finish\n",
    "iterator_1 = query_job_1.result(timeout=30)\n",
    "rows_1 = list(iterator_1)\n",
    "df_1 = pd.DataFrame(data=[list(x.values()) for x in rows_1], columns=list(rows_1[0].keys()))"
   ],
   "metadata": {
    "execution": {
     "iopub.status.busy": "2022-02-26T14:52:26.293118Z",
     "iopub.execute_input": "2022-02-26T14:52:26.294239Z",
     "iopub.status.idle": "2022-02-26T14:52:33.152383Z",
     "shell.execute_reply.started": "2022-02-26T14:52:26.294174Z",
     "shell.execute_reply": "2022-02-26T14:52:33.151252Z"
    },
    "trusted": true,
    "pycharm": {
     "name": "#%%\n"
    }
   },
   "execution_count": null,
   "outputs": []
  },
  {
   "cell_type": "code",
   "source": [
    "print(df_1.head())\n",
    "print(df_1.tail())"
   ],
   "metadata": {
    "execution": {
     "iopub.status.busy": "2022-02-26T14:52:33.15471Z",
     "iopub.execute_input": "2022-02-26T14:52:33.15514Z",
     "iopub.status.idle": "2022-02-26T14:52:33.172452Z",
     "shell.execute_reply.started": "2022-02-26T14:52:33.155086Z",
     "shell.execute_reply": "2022-02-26T14:52:33.171275Z"
    },
    "trusted": true,
    "pycharm": {
     "name": "#%%\n"
    }
   },
   "execution_count": null,
   "outputs": []
  },
  {
   "cell_type": "code",
   "source": [
    "plt.figure(figsize=(30,10))\n",
    "sns.lineplot(x='date', y='num_transactions', data=df_1)"
   ],
   "metadata": {
    "execution": {
     "iopub.status.busy": "2022-02-26T14:52:33.174369Z",
     "iopub.execute_input": "2022-02-26T14:52:33.174872Z",
     "iopub.status.idle": "2022-02-26T14:52:34.207633Z",
     "shell.execute_reply.started": "2022-02-26T14:52:33.174824Z",
     "shell.execute_reply": "2022-02-26T14:52:34.207009Z"
    },
    "trusted": true,
    "pycharm": {
     "name": "#%%\n"
    }
   },
   "execution_count": null,
   "outputs": []
  },
  {
   "cell_type": "code",
   "source": [
    "df_1['acc'] = abs(df_1.num_transactions.diff() / df_1.date.diff().dt.total_seconds())"
   ],
   "metadata": {
    "execution": {
     "iopub.status.busy": "2022-02-26T14:52:34.209407Z",
     "iopub.execute_input": "2022-02-26T14:52:34.209846Z",
     "iopub.status.idle": "2022-02-26T14:52:34.239462Z",
     "shell.execute_reply.started": "2022-02-26T14:52:34.20981Z",
     "shell.execute_reply": "2022-02-26T14:52:34.23864Z"
    },
    "trusted": true,
    "pycharm": {
     "name": "#%%\n"
    }
   },
   "execution_count": null,
   "outputs": []
  },
  {
   "cell_type": "code",
   "source": [
    "plt.figure(figsize=(30,10))\n",
    "sns.lineplot(x='date', y='acc', data=df_1[-720:]).set(title=\"Transactions acceleration\")"
   ],
   "metadata": {
    "execution": {
     "iopub.status.busy": "2022-02-26T14:52:34.240659Z",
     "iopub.execute_input": "2022-02-26T14:52:34.240907Z",
     "iopub.status.idle": "2022-02-26T14:52:35.104797Z",
     "shell.execute_reply.started": "2022-02-26T14:52:34.240873Z",
     "shell.execute_reply": "2022-02-26T14:52:35.102235Z"
    },
    "trusted": true,
    "pycharm": {
     "name": "#%%\n"
    }
   },
   "execution_count": null,
   "outputs": []
  },
  {
   "cell_type": "code",
   "source": [
    "import pickle "
   ],
   "metadata": {
    "execution": {
     "iopub.status.busy": "2022-02-26T14:52:39.322439Z",
     "iopub.execute_input": "2022-02-26T14:52:39.322763Z",
     "iopub.status.idle": "2022-02-26T14:52:39.326657Z",
     "shell.execute_reply.started": "2022-02-26T14:52:39.32273Z",
     "shell.execute_reply": "2022-02-26T14:52:39.325975Z"
    },
    "trusted": true,
    "pycharm": {
     "name": "#%%\n"
    }
   },
   "execution_count": null,
   "outputs": []
  },
  {
   "cell_type": "code",
   "source": [
    "with open('df_1.pickle', 'wb') as handle:\n",
    "    pickle.dump(df_1, handle, protocol=pickle.HIGHEST_PROTOCOL)"
   ],
   "metadata": {
    "execution": {
     "iopub.status.busy": "2022-02-26T14:52:39.686656Z",
     "iopub.execute_input": "2022-02-26T14:52:39.687416Z",
     "iopub.status.idle": "2022-02-26T14:52:39.8837Z",
     "shell.execute_reply.started": "2022-02-26T14:52:39.687357Z",
     "shell.execute_reply": "2022-02-26T14:52:39.882514Z"
    },
    "trusted": true,
    "pycharm": {
     "name": "#%%\n"
    }
   },
   "execution_count": null,
   "outputs": []
  },
  {
   "cell_type": "markdown",
   "source": [
    "#### Now something more serius for testing if there are some limitations in the querying the btc chain.\n",
    "## Let's see if we can create and store a TXO dataframe"
   ],
   "metadata": {
    "pycharm": {
     "name": "#%% md\n"
    }
   }
  },
  {
   "cell_type": "code",
   "source": [
    "# Start our query using WITH statement so we can define subqueries\n",
    "QUERY = '''\n",
    "WITH\n",
    "'''"
   ],
   "metadata": {
    "execution": {
     "iopub.status.busy": "2022-02-26T12:08:48.030327Z",
     "iopub.execute_input": "2022-02-26T12:08:48.031373Z",
     "iopub.status.idle": "2022-02-26T12:08:48.035707Z",
     "shell.execute_reply.started": "2022-02-26T12:08:48.03132Z",
     "shell.execute_reply": "2022-02-26T12:08:48.034908Z"
    },
    "trusted": true,
    "pycharm": {
     "name": "#%%\n"
    }
   },
   "execution_count": null,
   "outputs": []
  },
  {
   "cell_type": "code",
   "source": [
    "# Append a subquery to our cumulative QUERY string\n",
    "QUERY += '''\n",
    "-- Outputs subquery: contains relevant information about a given output.\n",
    "-- A TXO is created when it is an output of a transaction, so this contains\n",
    "-- metadata about the TXO creation\n",
    "output AS (\n",
    "  SELECT\n",
    "    transactions.HASH AS transaction_hash,\n",
    "    transactions.block_number AS created_block_number,\n",
    "    transactions.block_timestamp AS created_block_ts,\n",
    "    outputs.index AS output_index,\n",
    "    outputs.value AS output_value\n",
    "  FROM\n",
    "    `bigquery-public-data.crypto_bitcoin.transactions` AS transactions,\n",
    "    transactions.outputs AS outputs\n",
    "    ),\n",
    "'''"
   ],
   "metadata": {
    "execution": {
     "iopub.status.busy": "2022-02-26T12:08:53.415017Z",
     "iopub.execute_input": "2022-02-26T12:08:53.415462Z",
     "iopub.status.idle": "2022-02-26T12:08:53.420166Z",
     "shell.execute_reply.started": "2022-02-26T12:08:53.415431Z",
     "shell.execute_reply": "2022-02-26T12:08:53.418973Z"
    },
    "trusted": true,
    "pycharm": {
     "name": "#%%\n"
    }
   },
   "execution_count": null,
   "outputs": []
  },
  {
   "cell_type": "code",
   "source": [
    "QUERY += '''\n",
    "-- Inputs subquery: contains relevant information about a given input.\n",
    "-- A TXO is consumed when it is the input to a transaction, so this metadata\n",
    "-- tells us about when a TXO is spent or destroyed\n",
    "input AS (\n",
    "  SELECT\n",
    "    transactions.hash AS spending_transaction_hash,\n",
    "    inputs.spent_transaction_hash AS spent_transaction_hash,\n",
    "    transactions.block_number AS destroyed_block_number,\n",
    "    transactions.block_timestamp AS destroyed_block_ts,\n",
    "    inputs.spent_output_index,\n",
    "    inputs.value AS input_value\n",
    "  FROM\n",
    "    `bigquery-public-data.crypto_bitcoin.transactions` AS transactions,\n",
    "    transactions.inputs AS inputs\n",
    "    ),\n",
    "'''"
   ],
   "metadata": {
    "execution": {
     "iopub.status.busy": "2022-02-26T12:08:54.230291Z",
     "iopub.execute_input": "2022-02-26T12:08:54.231264Z",
     "iopub.status.idle": "2022-02-26T12:08:54.235826Z",
     "shell.execute_reply.started": "2022-02-26T12:08:54.231217Z",
     "shell.execute_reply": "2022-02-26T12:08:54.235087Z"
    },
    "trusted": true,
    "pycharm": {
     "name": "#%%\n"
    }
   },
   "execution_count": null,
   "outputs": []
  },
  {
   "cell_type": "code",
   "source": [
    "print(QUERY)"
   ],
   "metadata": {
    "execution": {
     "iopub.status.busy": "2022-02-26T12:08:55.055796Z",
     "iopub.execute_input": "2022-02-26T12:08:55.05624Z",
     "iopub.status.idle": "2022-02-26T12:08:55.061935Z",
     "shell.execute_reply.started": "2022-02-26T12:08:55.056208Z",
     "shell.execute_reply": "2022-02-26T12:08:55.060486Z"
    },
    "trusted": true,
    "pycharm": {
     "name": "#%%\n"
    }
   },
   "execution_count": null,
   "outputs": []
  },
  {
   "cell_type": "code",
   "source": [
    "QUERY += '''\n",
    "-- txo subquery: joins outputs to inputs so that we know when/if a TXO is spent.\n",
    "txo AS (\n",
    "  SELECT\n",
    "    output.transaction_hash,\n",
    "    output.created_block_number,\n",
    "    DATETIME(output.created_block_ts) AS created_block_ts,\n",
    "    -- Any field from the input table will be NULL if the TXO remains unspent.\n",
    "    input.spending_transaction_hash,\n",
    "    input.spent_transaction_hash,\n",
    "    input.destroyed_block_number,\n",
    "    DATETIME(input.destroyed_block_ts) AS destroyed_block_ts,\n",
    "    output.output_value\n",
    "  FROM\n",
    "    output\n",
    "  -- Use Left Join, as not all outputs will be linked as inputs in future transactions if they remain unspent.\n",
    "  LEFT JOIN\n",
    "    input\n",
    "  ON\n",
    "    -- Join an output to a future input based on the output transaction hash\n",
    "    -- matching the spent transaction hash of the input\n",
    "    output.transaction_hash = input.spent_transaction_hash\n",
    "    -- Also make sure the output index matches within the transaction hash\n",
    "    AND output.output_index = input.spent_output_index\n",
    "  )\n",
    "'''"
   ],
   "metadata": {
    "execution": {
     "iopub.status.busy": "2022-02-26T12:09:02.42352Z",
     "iopub.execute_input": "2022-02-26T12:09:02.423825Z",
     "iopub.status.idle": "2022-02-26T12:09:02.429237Z",
     "shell.execute_reply.started": "2022-02-26T12:09:02.423794Z",
     "shell.execute_reply": "2022-02-26T12:09:02.428271Z"
    },
    "trusted": true,
    "pycharm": {
     "name": "#%%\n"
    }
   },
   "execution_count": null,
   "outputs": []
  },
  {
   "cell_type": "code",
   "source": [
    "print(QUERY)"
   ],
   "metadata": {
    "execution": {
     "iopub.status.busy": "2022-02-26T12:09:04.60722Z",
     "iopub.execute_input": "2022-02-26T12:09:04.60749Z",
     "iopub.status.idle": "2022-02-26T12:09:04.613598Z",
     "shell.execute_reply.started": "2022-02-26T12:09:04.607462Z",
     "shell.execute_reply": "2022-02-26T12:09:04.612604Z"
    },
    "trusted": true,
    "pycharm": {
     "name": "#%%\n"
    }
   },
   "execution_count": null,
   "outputs": []
  },
  {
   "cell_type": "code",
   "source": [
    "# this query works but the result is so big that it can't be used in Kaggle server.\n",
    "#query_TXOs = client.query(QUERY + \"SELECT * FROM txo\")\n",
    "# Waits for the query to finish\n",
    "#iterator_TXOs = query_TXOs.result()\n",
    "#rows_TXOs = list(iterator_TXOs)\n",
    "#df_TXOs = pd.DataFrame(data=[list(x.values()) for x in rows_TXOs], columns=list(rows_TXOs[0].keys()))"
   ],
   "metadata": {
    "execution": {
     "iopub.status.busy": "2022-02-26T12:09:17.465794Z",
     "iopub.execute_input": "2022-02-26T12:09:17.466533Z",
     "iopub.status.idle": "2022-02-26T12:09:26.408459Z",
     "shell.execute_reply.started": "2022-02-26T12:09:17.466495Z",
     "shell.execute_reply": "2022-02-26T12:09:26.406976Z"
    },
    "trusted": true,
    "pycharm": {
     "name": "#%%\n"
    }
   },
   "execution_count": null,
   "outputs": []
  },
  {
   "cell_type": "code",
   "source": [
    "#with open('df_TXOs.pickle', 'wb') as handle:\n",
    "#    pickle.dump(df_TXOs, handle, protocol=pickle.HIGHEST_PROTOCOL)\n",
    "#compression_opts = dict(method='zip',archive_name='df_TXOs.csv')  \n",
    "#df.to_csv('df_TXOs.zip', index=False,compression=compression_opts) "
   ],
   "metadata": {
    "pycharm": {
     "name": "#%%\n"
    }
   },
   "execution_count": null,
   "outputs": []
  },
  {
   "cell_type": "code",
   "source": [],
   "metadata": {
    "pycharm": {
     "name": "#%%\n"
    }
   },
   "execution_count": null,
   "outputs": []
  },
  {
   "cell_type": "markdown",
   "source": [
    "## The next query will help us to create the HOLD HEATMAP"
   ],
   "metadata": {
    "pycharm": {
     "name": "#%% md\n"
    }
   }
  },
  {
   "cell_type": "code",
   "source": [
    "QUERY += '''\n",
    "-- blocks subquery: for each date get the final block for that date\n",
    "blocks AS (\n",
    "  SELECT\n",
    "    DATE(timestamp) AS date,\n",
    "    -- Get last block per day\n",
    "    MAX(number) AS block_number,\n",
    "    MAX(DATETIME(timestamp)) AS block_ts\n",
    "  FROM\n",
    "    `bigquery-public-data.crypto_bitcoin.blocks`\n",
    "  GROUP BY\n",
    "    date)\n",
    "'''"
   ],
   "metadata": {
    "execution": {
     "iopub.status.busy": "2022-02-22T13:32:58.190779Z",
     "iopub.execute_input": "2022-02-22T13:32:58.19151Z",
     "iopub.status.idle": "2022-02-22T13:32:58.232083Z",
     "shell.execute_reply.started": "2022-02-22T13:32:58.191467Z",
     "shell.execute_reply": "2022-02-22T13:32:58.230918Z"
    },
    "trusted": true,
    "pycharm": {
     "name": "#%%\n"
    }
   },
   "execution_count": null,
   "outputs": []
  },
  {
   "cell_type": "code",
   "source": [
    "QUERY += '''\n",
    "-- final data aggregation query: join txo with blocks, keeping only txo \n",
    "-- that were created and unspent as of that block, then bucket the txo\n",
    "-- by age and sum the txo value per bucket per that day\n",
    "SELECT\n",
    "  -- Time series metadata\n",
    "  blocks.date AS date,\n",
    "  blocks.block_number AS block_number,\n",
    "  blocks.block_ts AS block_ts,\n",
    "  \n",
    "-- BTC Value Weighting\n",
    "  -- Total UTXO value on that date\n",
    "  SUM(txo.output_value) AS total_utxo_value,\n",
    "  -- Our HODL Waves buckets, counting value of UTXO\n",
    "  SUM(IF(DATETIME_DIFF(blocks.block_ts, txo.created_block_ts, DAY) < 1, txo.output_value, 0)) AS utxo_value_under_1d,\n",
    "  SUM(IF(DATETIME_DIFF(blocks.block_ts, txo.created_block_ts, DAY) >= 1\n",
    "         AND DATETIME_DIFF(blocks.block_ts, txo.created_block_ts, DAY) < 7,\n",
    "         txo.output_value, 0)) AS utxo_value_1d_1w,\n",
    "  SUM(IF(DATETIME_DIFF(blocks.block_ts, txo.created_block_ts, DAY) >= 7\n",
    "         AND DATETIME_DIFF(blocks.block_ts, txo.created_block_ts, DAY) < 28,\n",
    "         txo.output_value, 0)) AS utxo_value_1w_1m,\n",
    "  SUM(IF(DATETIME_DIFF(blocks.block_ts, txo.created_block_ts, DAY) >= 28\n",
    "         AND DATETIME_DIFF(blocks.block_ts, txo.created_block_ts, DAY) < 28 * 3,\n",
    "         txo.output_value, 0)) AS utxo_value_1m_3m,\n",
    "  SUM(IF(DATETIME_DIFF(blocks.block_ts, txo.created_block_ts, DAY) >= 28 * 3\n",
    "         AND DATETIME_DIFF(blocks.block_ts, txo.created_block_ts, DAY) < 28 * 6,\n",
    "         txo.output_value, 0)) AS utxo_value_3m_6m,\n",
    "  SUM(IF(DATETIME_DIFF(blocks.block_ts, txo.created_block_ts, DAY) >= 28 * 6\n",
    "         AND DATETIME_DIFF(blocks.block_ts, txo.created_block_ts, DAY) < 28 * 12,\n",
    "         txo.output_value, 0)) AS utxo_value_6m_12m,\n",
    "  SUM(IF(DATETIME_DIFF(blocks.block_ts, txo.created_block_ts, DAY) >= 28 * 12\n",
    "         AND DATETIME_DIFF(blocks.block_ts, txo.created_block_ts, DAY) < 28 * 18,\n",
    "         txo.output_value, 0)) AS utxo_value_12m_18m,\n",
    "  SUM(IF(DATETIME_DIFF(blocks.block_ts, txo.created_block_ts, DAY) >= 28 * 18\n",
    "         AND DATETIME_DIFF(blocks.block_ts, txo.created_block_ts, DAY) < 28 * 24,\n",
    "         txo.output_value, 0)) AS utxo_value_18m_24m,\n",
    "  SUM(IF(DATETIME_DIFF(blocks.block_ts, txo.created_block_ts, DAY) >= 28 * 12 * 2\n",
    "         AND DATETIME_DIFF(blocks.block_ts, txo.created_block_ts, DAY) < 28 * 12 * 3,\n",
    "         txo.output_value, 0)) AS utxo_value_2y_3y,\n",
    "  SUM(IF(DATETIME_DIFF(blocks.block_ts, txo.created_block_ts, DAY) >= 28 * 12 * 3\n",
    "         AND DATETIME_DIFF(blocks.block_ts, txo.created_block_ts, DAY) < 28 * 12 * 5,\n",
    "         txo.output_value, 0)) AS utxo_value_3y_5y,\n",
    "  SUM(IF(DATETIME_DIFF(blocks.block_ts, txo.created_block_ts, DAY) >= 28 * 12 * 5\n",
    "         AND DATETIME_DIFF(blocks.block_ts, txo.created_block_ts, DAY) < 28 * 12 * 8,\n",
    "         txo.output_value, 0)) AS utxo_value_5y_8y,\n",
    "  SUM(IF(DATETIME_DIFF(blocks.block_ts, txo.created_block_ts, DAY) >= 28 * 12 * 8,\n",
    "         txo.output_value, 0)) AS utxo_value_greater_8y,\n",
    "\n",
    "-- Flat Weighting\n",
    "  -- Total UTXO count on that date\n",
    "  SUM(1) AS total_utxo_count,\n",
    "  -- Our HODL Waves buckets, counting number of UTXO\n",
    "  SUM(IF(DATETIME_DIFF(blocks.block_ts, txo.created_block_ts, DAY) < 1, 1, 0)) AS utxo_count_under_1d,\n",
    "  SUM(IF(DATETIME_DIFF(blocks.block_ts, txo.created_block_ts, DAY) >= 1\n",
    "         AND DATETIME_DIFF(blocks.block_ts, txo.created_block_ts, DAY) < 7,\n",
    "         1, 0)) AS utxo_count_1d_1w,\n",
    "  SUM(IF(DATETIME_DIFF(blocks.block_ts, txo.created_block_ts, DAY) >= 7\n",
    "         AND DATETIME_DIFF(blocks.block_ts, txo.created_block_ts, DAY) < 28,\n",
    "         1, 0)) AS utxo_count_1w_1m,\n",
    "  SUM(IF(DATETIME_DIFF(blocks.block_ts, txo.created_block_ts, DAY) >= 28\n",
    "         AND DATETIME_DIFF(blocks.block_ts, txo.created_block_ts, DAY) < 28 * 3,\n",
    "         1, 0)) AS utxo_count_1m_3m,\n",
    "  SUM(IF(DATETIME_DIFF(blocks.block_ts, txo.created_block_ts, DAY) >= 28 * 3\n",
    "         AND DATETIME_DIFF(blocks.block_ts, txo.created_block_ts, DAY) < 28 * 6,\n",
    "         1, 0)) AS utxo_count_3m_6m,\n",
    "  SUM(IF(DATETIME_DIFF(blocks.block_ts, txo.created_block_ts, DAY) >= 28 * 6\n",
    "         AND DATETIME_DIFF(blocks.block_ts, txo.created_block_ts, DAY) < 28 * 12,\n",
    "         1, 0)) AS utxo_count_6m_12m,\n",
    "  SUM(IF(DATETIME_DIFF(blocks.block_ts, txo.created_block_ts, DAY) >= 28 * 12\n",
    "         AND DATETIME_DIFF(blocks.block_ts, txo.created_block_ts, DAY) < 28 * 18,\n",
    "         1, 0)) AS utxo_count_12m_18m,\n",
    "  SUM(IF(DATETIME_DIFF(blocks.block_ts, txo.created_block_ts, DAY) >= 28 * 18\n",
    "         AND DATETIME_DIFF(blocks.block_ts, txo.created_block_ts, DAY) < 28 * 24,\n",
    "         1, 0)) AS utxo_count_18m_24m,\n",
    "  SUM(IF(DATETIME_DIFF(blocks.block_ts, txo.created_block_ts, DAY) >= 28 * 12 * 2\n",
    "         AND DATETIME_DIFF(blocks.block_ts, txo.created_block_ts, DAY) < 28 * 12 * 3,\n",
    "         1, 0)) AS utxo_count_2y_3y,\n",
    "  SUM(IF(DATETIME_DIFF(blocks.block_ts, txo.created_block_ts, DAY) >= 28 * 12 * 3\n",
    "         AND DATETIME_DIFF(blocks.block_ts, txo.created_block_ts, DAY) < 28 * 12 * 5,\n",
    "         1, 0)) AS utxo_count_3y_5y,\n",
    "  SUM(IF(DATETIME_DIFF(blocks.block_ts, txo.created_block_ts, DAY) >= 28 * 12 * 5\n",
    "         AND DATETIME_DIFF(blocks.block_ts, txo.created_block_ts, DAY) < 28 * 12 * 8,\n",
    "         1, 0)) AS utxo_count_5y_8y,\n",
    "  SUM(IF(DATETIME_DIFF(blocks.block_ts, txo.created_block_ts, DAY) >= 28 * 12 * 8,\n",
    "         1, 0)) AS utxo_count_greater_8y,\n",
    "\n",
    "-- Flat weighting, filtered\n",
    "  -- Total UTXO count on that date (> 0.01 BTC)\n",
    "  SUM(IF(txo.output_value / 100000000 > 0.01, 1, 0)) AS total_utxo_count_filter,\n",
    "  -- Our HODL Waves buckets, counting number of UTXO (> 0.01 BTC)\n",
    "  SUM(IF(DATETIME_DIFF(blocks.block_ts, txo.created_block_ts, DAY) < 1\n",
    "         AND txo.output_value / 100000000 >= 0.01,\n",
    "         1, 0)) AS utxo_count_filter_under_1d,\n",
    "  SUM(IF(DATETIME_DIFF(blocks.block_ts, txo.created_block_ts, DAY) >= 1\n",
    "         AND DATETIME_DIFF(blocks.block_ts, txo.created_block_ts, DAY) < 7\n",
    "         AND txo.output_value / 100000000 >= 0.01,\n",
    "         1, 0)) AS utxo_count_filter_1d_1w,\n",
    "  SUM(IF(DATETIME_DIFF(blocks.block_ts, txo.created_block_ts, DAY) >= 7\n",
    "         AND DATETIME_DIFF(blocks.block_ts, txo.created_block_ts, DAY) < 28\n",
    "         AND txo.output_value / 100000000 >= 0.01,\n",
    "         1, 0)) AS utxo_count_filter_1w_1m,\n",
    "  SUM(IF(DATETIME_DIFF(blocks.block_ts, txo.created_block_ts, DAY) >= 28\n",
    "         AND DATETIME_DIFF(blocks.block_ts, txo.created_block_ts, DAY) < 28 * 3\n",
    "         AND txo.output_value / 100000000 >= 0.01,\n",
    "         1, 0)) AS utxo_count_filter_1m_3m,\n",
    "  SUM(IF(DATETIME_DIFF(blocks.block_ts, txo.created_block_ts, DAY) >= 28 * 3\n",
    "         AND DATETIME_DIFF(blocks.block_ts, txo.created_block_ts, DAY) < 28 * 6\n",
    "         AND txo.output_value / 100000000 >= 0.01,\n",
    "         1, 0)) AS utxo_count_filter_3m_6m,\n",
    "  SUM(IF(DATETIME_DIFF(blocks.block_ts, txo.created_block_ts, DAY) >= 28 * 6\n",
    "         AND DATETIME_DIFF(blocks.block_ts, txo.created_block_ts, DAY) < 28 * 12\n",
    "         AND txo.output_value / 100000000 >= 0.01,\n",
    "         1, 0)) AS utxo_count_filter_6m_12m,\n",
    "  SUM(IF(DATETIME_DIFF(blocks.block_ts, txo.created_block_ts, DAY) >= 28 * 12\n",
    "         AND DATETIME_DIFF(blocks.block_ts, txo.created_block_ts, DAY) < 28 * 18\n",
    "         AND txo.output_value / 100000000 >= 0.01,\n",
    "         1, 0)) AS utxo_count_filter_12m_18m,\n",
    "  SUM(IF(DATETIME_DIFF(blocks.block_ts, txo.created_block_ts, DAY) >= 28 * 18\n",
    "         AND DATETIME_DIFF(blocks.block_ts, txo.created_block_ts, DAY) < 28 * 24\n",
    "         AND txo.output_value / 100000000 >= 0.01,\n",
    "         1, 0)) AS utxo_count_filter_18m_24m,\n",
    "  SUM(IF(DATETIME_DIFF(blocks.block_ts, txo.created_block_ts, DAY) >= 28 * 12 * 2\n",
    "         AND DATETIME_DIFF(blocks.block_ts, txo.created_block_ts, DAY) < 28 * 12 * 3\n",
    "         AND txo.output_value / 100000000 >= 0.01,\n",
    "         1, 0)) AS utxo_count_filter_2y_3y,\n",
    "  SUM(IF(DATETIME_DIFF(blocks.block_ts, txo.created_block_ts, DAY) >= 28 * 12 * 3\n",
    "         AND DATETIME_DIFF(blocks.block_ts, txo.created_block_ts, DAY) < 28 * 12 * 5\n",
    "         AND txo.output_value / 100000000 >= 0.01,\n",
    "         1, 0)) AS utxo_count_filter_3y_5y,\n",
    "  SUM(IF(DATETIME_DIFF(blocks.block_ts, txo.created_block_ts, DAY) >= 28 * 12 * 5\n",
    "         AND DATETIME_DIFF(blocks.block_ts, txo.created_block_ts, DAY) < 28 * 12 * 8\n",
    "         AND txo.output_value / 100000000 >= 0.01,\n",
    "         1, 0)) AS utxo_count_filter_5y_8y,\n",
    "  SUM(IF(DATETIME_DIFF(blocks.block_ts, txo.created_block_ts, DAY) >= 28 * 12 * 8\n",
    "         AND txo.output_value / 100000000 >= 0.01,\n",
    "         1, 0)) AS utxo_count_filter_greater_8y\n",
    "FROM\n",
    "  blocks\n",
    "CROSS JOIN\n",
    "  txo\n",
    "WHERE\n",
    "  -- Only include transactions that were created on or after the given block\n",
    "  blocks.block_number >= txo.created_block_number\n",
    "  -- Only include transactions there were unspent as of the given block\n",
    "  AND (\n",
    "    -- Transactions that are spent after the given block, so they are included\n",
    "    blocks.block_number < txo.destroyed_block_number \n",
    "    -- Transactions that are never spent, so they are included\n",
    "    OR txo.destroyed_block_number IS NULL)\n",
    "GROUP BY\n",
    "  date, block_number, block_ts\n",
    "ORDER BY\n",
    "  date ASC;\n",
    "'''"
   ],
   "metadata": {
    "execution": {
     "iopub.status.busy": "2022-02-22T13:32:58.233795Z",
     "iopub.execute_input": "2022-02-22T13:32:58.234322Z",
     "iopub.status.idle": "2022-02-22T13:32:58.283326Z",
     "shell.execute_reply.started": "2022-02-22T13:32:58.234285Z",
     "shell.execute_reply": "2022-02-22T13:32:58.282414Z"
    },
    "trusted": true,
    "pycharm": {
     "name": "#%%\n"
    }
   },
   "execution_count": null,
   "outputs": []
  },
  {
   "cell_type": "code",
   "source": [
    "print(QUERY)"
   ],
   "metadata": {
    "execution": {
     "iopub.status.busy": "2022-02-22T13:32:58.284803Z",
     "iopub.execute_input": "2022-02-22T13:32:58.285513Z",
     "iopub.status.idle": "2022-02-22T13:32:58.329535Z",
     "shell.execute_reply.started": "2022-02-22T13:32:58.285457Z",
     "shell.execute_reply": "2022-02-22T13:32:58.328882Z"
    },
    "trusted": true,
    "pycharm": {
     "name": "#%%\n"
    }
   },
   "execution_count": null,
   "outputs": []
  },
  {
   "cell_type": "markdown",
   "source": [
    "## Now we will check the addresses"
   ],
   "metadata": {
    "pycharm": {
     "name": "#%% md\n"
    }
   }
  },
  {
   "cell_type": "code",
   "source": [
    "QUERY = ''\n",
    "QUERY += '''\n",
    "WITH\n",
    "\n",
    "output AS (\n",
    "  SELECT\n",
    "      tx.hash AS transaction_hash\n",
    "    , tx.block_timestamp AS block_ts\n",
    "    , tx.block_number AS block_number\n",
    "    , addresses AS address\n",
    "    , outputs.value AS value\n",
    "FROM    `bigquery-public-data.crypto_bitcoin.transactions` AS tx,\n",
    "    tx.outputs AS outputs,\n",
    "    UNNEST(outputs.addresses) AS addresses\n",
    "-- WHERE    block_timestamp_month >= \"2021-05-01\"\n",
    "),\n",
    "\n",
    "address_stats AS (\n",
    "SELECT\n",
    "    address\n",
    "  , MIN(block_number) AS first_block_used\n",
    "  , COUNT(DISTINCT transaction_hash) AS num_txs\n",
    "FROM output\n",
    "GROUP BY 1)\n",
    "\n",
    "SELECT\n",
    "    DATE(block_ts) AS date\n",
    "\n",
    "  , COUNT(output.address) AS address_count\n",
    "  , SUM(IF(address_stats.first_block_used = block_number, 1, 0)) AS new_address_count\n",
    "  , SUM(IF(address_stats.first_block_used < block_number AND num_txs > 1, 1, 0)) AS reused_address_count\n",
    "  , SAFE_DIVIDE(SUM(IF(address_stats.first_block_used < block_number AND num_txs > 1, 1, 0)), COUNT(output.address)) AS pct_reused_count\n",
    "\n",
    "  , COUNT(DISTINCT output.address) AS address_ucount\n",
    "  , COUNT(DISTINCT IF(address_stats.first_block_used = block_number, output.address, Null)) AS new_address_ucount\n",
    "  , COUNT(DISTINCT IF(address_stats.first_block_used < block_number AND num_txs > 1, output.address, Null)) AS reused_address_ucount\n",
    "  , SAFE_DIVIDE(COUNT(DISTINCT IF(address_stats.first_block_used < block_number AND num_txs > 1, output.address, Null)), COUNT(DISTINCT output.address)) AS pct_reused_ucount\n",
    "\n",
    "  , SUM(output.value) AS address_value\n",
    "  , SUM(IF(address_stats.first_block_used = block_number, output.value, 0)) AS new_address_value\n",
    "  , SUM(IF(address_stats.first_block_used < block_number AND num_txs > 1, output.value, 0)) AS reused_address_value\n",
    "  , SAFE_DIVIDE(SUM(IF(address_stats.first_block_used < block_number AND num_txs > 1, output.value, 0)), SUM(output.value)) AS pct_reused_value\n",
    "\n",
    "  , SUM(IF(num_txs <= 100, 1, 0)) AS address_count_small\n",
    "  , SUM(IF(address_stats.first_block_used = block_number AND num_txs <= 100, 1, 0)) AS new_address_count_small\n",
    "  , SUM(IF(address_stats.first_block_used < block_number AND num_txs > 1 AND num_txs <= 100, 1, 0)) AS reused_address_count_small\n",
    "  , SAFE_DIVIDE(SUM(IF(address_stats.first_block_used < block_number AND num_txs > 1 AND num_txs <= 100, 1, 0)), SUM(IF(num_txs <= 100, 1, 0))) AS pct_reused_count_small\n",
    "\n",
    "  , COUNT(DISTINCT IF(num_txs <= 100, output.address, NULL)) AS address_ucount_small\n",
    "  , COUNT(DISTINCT IF(address_stats.first_block_used = block_number AND num_txs <= 100, output.address, Null)) AS new_address_ucount_small\n",
    "  , COUNT(DISTINCT IF(address_stats.first_block_used < block_number AND num_txs > 1 AND num_txs <= 100, output.address, Null)) AS reused_address_ucount_small\n",
    "  , SAFE_DIVIDE(COUNT(DISTINCT IF(address_stats.first_block_used < block_number AND num_txs > 1 AND num_txs <= 100, output.address, Null)), COUNT(DISTINCT IF(num_txs <= 100, output.address, NULL))) AS pct_reused_ucount_small\n",
    "\n",
    "  , SUM(IF(num_txs <= 100, output.value, 0)) AS address_value_small\n",
    "  , SUM(IF(address_stats.first_block_used = block_number AND num_txs <= 100, output.value, 0)) AS new_address_value_small\n",
    "  , SUM(IF(address_stats.first_block_used < block_number AND num_txs > 1 AND num_txs <= 100, output.value, 0)) AS reused_address_value_small\n",
    "  , SAFE_DIVIDE(SUM(IF(address_stats.first_block_used < block_number AND num_txs > 1 AND num_txs <= 100, output.value, 0)), SUM(IF(num_txs <= 100, output.value, 0))) AS pct_reused_value_small\n",
    "FROM output\n",
    "LEFT JOIN address_stats\n",
    "ON output.address = address_stats.address\n",
    "GROUP BY 1\n",
    "ORDER BY 1 ASC\n",
    "'''"
   ],
   "metadata": {
    "execution": {
     "iopub.status.busy": "2022-02-26T14:52:49.398832Z",
     "iopub.execute_input": "2022-02-26T14:52:49.399212Z",
     "iopub.status.idle": "2022-02-26T14:52:49.408384Z",
     "shell.execute_reply.started": "2022-02-26T14:52:49.399169Z",
     "shell.execute_reply": "2022-02-26T14:52:49.407001Z"
    },
    "trusted": true,
    "pycharm": {
     "name": "#%%\n"
    }
   },
   "execution_count": null,
   "outputs": []
  },
  {
   "cell_type": "code",
   "source": [
    "query_addresses= client.query(QUERY)\n",
    "# Waits for the query to finish\n",
    "iterator_addresses = query_addresses.result()\n",
    "rows_addresses = list(iterator_addresses)\n",
    "df_addresses = pd.DataFrame(data=[list(x.values()) for x in rows_addresses], columns=list(rows_addresses[0].keys()))"
   ],
   "metadata": {
    "execution": {
     "iopub.status.busy": "2022-02-26T15:02:05.921945Z",
     "iopub.execute_input": "2022-02-26T15:02:05.922406Z",
     "iopub.status.idle": "2022-02-26T15:03:47.493226Z",
     "shell.execute_reply.started": "2022-02-26T15:02:05.922366Z",
     "shell.execute_reply": "2022-02-26T15:03:47.492128Z"
    },
    "trusted": true,
    "pycharm": {
     "name": "#%%\n"
    }
   },
   "execution_count": null,
   "outputs": []
  },
  {
   "cell_type": "code",
   "source": [
    "with open('df_addresses.pickle', 'wb') as handle:\n",
    "    pickle.dump(df_addresses, handle, protocol=pickle.HIGHEST_PROTOCOL)"
   ],
   "metadata": {
    "execution": {
     "iopub.status.busy": "2022-02-26T15:03:47.495327Z",
     "iopub.execute_input": "2022-02-26T15:03:47.495741Z",
     "iopub.status.idle": "2022-02-26T15:03:47.591212Z",
     "shell.execute_reply.started": "2022-02-26T15:03:47.495692Z",
     "shell.execute_reply": "2022-02-26T15:03:47.589845Z"
    },
    "trusted": true,
    "pycharm": {
     "name": "#%%\n"
    }
   },
   "execution_count": null,
   "outputs": []
  },
  {
   "cell_type": "code",
   "source": [
    "compression_opts = dict(method='zip',archive_name='df_addresses.csv')  \n",
    "df_addresses.to_csv('df_addresses.zip', index=False, compression=compression_opts) "
   ],
   "metadata": {
    "execution": {
     "iopub.status.busy": "2022-02-26T15:03:47.592683Z",
     "iopub.execute_input": "2022-02-26T15:03:47.592915Z",
     "iopub.status.idle": "2022-02-26T15:03:47.852738Z",
     "shell.execute_reply.started": "2022-02-26T15:03:47.592887Z",
     "shell.execute_reply": "2022-02-26T15:03:47.85199Z"
    },
    "trusted": true,
    "pycharm": {
     "name": "#%%\n"
    }
   },
   "execution_count": null,
   "outputs": []
  },
  {
   "cell_type": "code",
   "source": [],
   "metadata": {
    "pycharm": {
     "name": "#%%\n"
    }
   },
   "execution_count": null,
   "outputs": []
  }
 ]
}